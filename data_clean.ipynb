{
 "cells": [
  {
   "cell_type": "code",
   "execution_count": 1,
   "metadata": {},
   "outputs": [],
   "source": [
    "import findspark\n",
    "findspark.init()\n",
    "from pyspark.sql import SparkSession\n",
    "spark = SparkSession.builder.appName(\"sparkml\").getOrCreate()"
   ]
  },
  {
   "cell_type": "code",
   "execution_count": 2,
   "metadata": {},
   "outputs": [
    {
     "data": {
      "text/html": [
       "\n",
       "            <div>\n",
       "                <p><b>SparkSession - in-memory</b></p>\n",
       "                \n",
       "        <div>\n",
       "            <p><b>SparkContext</b></p>\n",
       "\n",
       "            <p><a href=\"http://ip-172-31-39-163.ec2.internal:4040\">Spark UI</a></p>\n",
       "\n",
       "            <dl>\n",
       "              <dt>Version</dt>\n",
       "                <dd><code>v2.4.4</code></dd>\n",
       "              <dt>Master</dt>\n",
       "                <dd><code>yarn</code></dd>\n",
       "              <dt>AppName</dt>\n",
       "                <dd><code>sparkml</code></dd>\n",
       "            </dl>\n",
       "        </div>\n",
       "        \n",
       "            </div>\n",
       "        "
      ],
      "text/plain": [
       "<pyspark.sql.session.SparkSession at 0x7ff7642ae3d0>"
      ]
     },
     "execution_count": 2,
     "metadata": {},
     "output_type": "execute_result"
    }
   ],
   "source": [
    "spark"
   ]
  },
  {
   "cell_type": "markdown",
   "metadata": {},
   "source": [
    "# Data1 Aggeragate"
   ]
  },
  {
   "cell_type": "code",
   "execution_count": 3,
   "metadata": {},
   "outputs": [],
   "source": [
    "path0 = 's3://502pubg/Aggeragate/agg_match_stats_0.csv'\n",
    "path1 = 's3://502pubg/Aggeragate/agg_match_stats_1.csv'\n",
    "path2 = 's3://502pubg/Aggeragate/agg_match_stats_2.csv'\n",
    "path3 = 's3://502pubg/Aggeragate/agg_match_stats_3.csv'\n",
    "path4 = 's3://502pubg/Aggeragate/agg_match_stats_4.csv'"
   ]
  },
  {
   "cell_type": "code",
   "execution_count": 4,
   "metadata": {},
   "outputs": [],
   "source": [
    "agg0 = spark.read.csv(path0, header=True, inferSchema=True)\n",
    "agg1 = spark.read.csv(path1, header=True, inferSchema=True)\n",
    "agg2 = spark.read.csv(path2, header=True, inferSchema=True)\n",
    "agg3 = spark.read.csv(path3, header=True, inferSchema=True)\n",
    "agg4 = spark.read.csv(path4, header=True, inferSchema=True)"
   ]
  },
  {
   "cell_type": "code",
   "execution_count": 5,
   "metadata": {},
   "outputs": [],
   "source": [
    "agg = agg0.union(agg1)\n",
    "agg = agg.union(agg2)\n",
    "agg = agg.union(agg3)\n",
    "agg = agg.union(agg4)\n",
    "#Combine the csv files"
   ]
  },
  {
   "cell_type": "code",
   "execution_count": 6,
   "metadata": {},
   "outputs": [
    {
     "name": "stdout",
     "output_type": "stream",
     "text": [
      "root\n",
      " |-- date: string (nullable = true)\n",
      " |-- game_size: integer (nullable = true)\n",
      " |-- match_id: string (nullable = true)\n",
      " |-- match_mode: string (nullable = true)\n",
      " |-- party_size: integer (nullable = true)\n",
      " |-- player_assists: integer (nullable = true)\n",
      " |-- player_dbno: integer (nullable = true)\n",
      " |-- player_dist_ride: double (nullable = true)\n",
      " |-- player_dist_walk: double (nullable = true)\n",
      " |-- player_dmg: integer (nullable = true)\n",
      " |-- player_kills: integer (nullable = true)\n",
      " |-- player_name: string (nullable = true)\n",
      " |-- player_survive_time: double (nullable = true)\n",
      " |-- team_id: integer (nullable = true)\n",
      " |-- team_placement: integer (nullable = true)\n",
      "\n"
     ]
    }
   ],
   "source": [
    "agg.printSchema()"
   ]
  },
  {
   "cell_type": "code",
   "execution_count": 7,
   "metadata": {},
   "outputs": [
    {
     "name": "stdout",
     "output_type": "stream",
     "text": [
      "+--------------------+---------+--------------------+----------+----------+--------------+-----------+------------------+------------------+----------+------------+--------------+-------------------+-------+--------------+\n",
      "|                date|game_size|            match_id|match_mode|party_size|player_assists|player_dbno|  player_dist_ride|  player_dist_walk|player_dmg|player_kills|   player_name|player_survive_time|team_id|team_placement|\n",
      "+--------------------+---------+--------------------+----------+----------+--------------+-----------+------------------+------------------+----------+------------+--------------+-------------------+-------+--------------+\n",
      "|2017-11-26T20:59:...|       37|2U4GBNA0YmnNZYkzj...|       tpp|         2|             0|          1|          2870.724|        1784.84778|       117|           1|      SnuffIes|            1106.32|      4|            18|\n",
      "|2017-11-26T20:59:...|       37|2U4GBNA0YmnNZYkzj...|       tpp|         2|             0|          1|2938.4072300000003|1756.0797100000002|       127|           1|        Ozon3r|           1106.315|      4|            18|\n",
      "|2017-11-26T20:59:...|       37|2U4GBNA0YmnNZYkzj...|       tpp|         2|             0|          0|               0.0|        224.157562|        67|           0|        bovize|            235.558|      5|            33|\n",
      "|2017-11-26T20:59:...|       37|2U4GBNA0YmnNZYkzj...|       tpp|         2|             0|          0|               0.0|          92.93515|         0|           0|       sbahn87|            197.553|      5|            33|\n",
      "|2017-11-26T20:59:...|       37|2U4GBNA0YmnNZYkzj...|       tpp|         2|             0|          0|        2619.07739|          2510.447|       175|           2|     GeminiZZZ|           1537.495|     14|            11|\n",
      "|2017-11-26T20:59:...|       37|2U4GBNA0YmnNZYkzj...|       tpp|         2|             0|          0|         2896.3125|        2167.93213|        65|           0|      AlexWho6|             1537.5|     14|            11|\n",
      "|2017-11-26T20:59:...|       37|2U4GBNA0YmnNZYkzj...|       tpp|         2|             0|          0|               0.0|        3118.58032|         0|           0|    R1dd1ck913|           1264.792|     15|            17|\n",
      "|2017-11-26T20:59:...|       37|2U4GBNA0YmnNZYkzj...|       tpp|         2|             0|          0|               0.0|          3237.202|         0|           0|     Emmylou89|           1264.795|     15|            17|\n",
      "|2017-11-26T20:59:...|       37|2U4GBNA0YmnNZYkzj...|       tpp|         2|             0|          0|               0.0|         1552.3147|        79|           0|         ron-n|             868.56|     17|            24|\n",
      "|2017-11-26T20:59:...|       37|2U4GBNA0YmnNZYkzj...|       tpp|         2|             0|          1|               0.0|         1450.3147|       101|           1|       SoSpicy|            868.555|     17|            24|\n",
      "|2017-11-26T20:59:...|       37|2U4GBNA0YmnNZYkzj...|       tpp|         2|             0|          1|        2406.55469|        3100.02124|        54|           1|   MatthiasXIV|           1939.846|     22|             4|\n",
      "|2017-11-26T20:59:...|       37|2U4GBNA0YmnNZYkzj...|       tpp|         2|             0|          0|        3135.38647|2456.2775899999997|        34|           0|      Ninjapex|           1939.851|     22|             4|\n",
      "|2017-11-26T20:59:...|       37|2U4GBNA0YmnNZYkzj...|       tpp|         2|             0|          0|               0.0|        55.2714539|         0|           0|    thebrewski|             160.64|     24|            34|\n",
      "|2017-11-26T20:59:...|       37|2U4GBNA0YmnNZYkzj...|       tpp|         2|             0|          1|               0.0|          129.4159|       215|           2|GucciManeDrain| 180.90099999999998|     24|            34|\n",
      "|2017-11-26T20:59:...|       37|2U4GBNA0YmnNZYkzj...|       tpp|         2|             0|          0|          2418.547|        2474.08887|        75|           1|      subzero3|           2181.815|     25|             2|\n",
      "|2017-11-26T20:59:...|       37|2U4GBNA0YmnNZYkzj...|       tpp|         2|             0|          0|1277.5805699999999|        3286.67114|        84|           1|       Chogo82|            2181.82|     25|             2|\n",
      "|2017-11-26T20:59:...|       37|2U4GBNA0YmnNZYkzj...|       tpp|         2|             0|          0|               0.0|          2057.258|         0|           0|    FIYMNBVCXZ| 1583.1570000000002|     26|             3|\n",
      "|2017-11-26T20:59:...|       37|2U4GBNA0YmnNZYkzj...|       tpp|         2|             0|          4|               0.0|        3285.94385|       673|           6|     ShuLanHou| 2009.7220000000002|     26|             3|\n",
      "|2017-11-26T20:59:...|       37|2U4GBNA0YmnNZYkzj...|       tpp|         2|             0|          0|               0.0|        1522.11768|       117|           1|         sigbo| 1032.6480000000001|     29|            20|\n",
      "|2017-11-26T20:59:...|       37|2U4GBNA0YmnNZYkzj...|       tpp|         2|             0|          1|               0.0|        1078.95581|       100|           1|       Jerryxp|            513.487|     29|            20|\n",
      "+--------------------+---------+--------------------+----------+----------+--------------+-----------+------------------+------------------+----------+------------+--------------+-------------------+-------+--------------+\n",
      "only showing top 20 rows\n",
      "\n"
     ]
    }
   ],
   "source": [
    "agg.show()"
   ]
  },
  {
   "cell_type": "code",
   "execution_count": 8,
   "metadata": {},
   "outputs": [],
   "source": [
    "agg=agg.drop('date')\n",
    "agg =agg.drop('match_id')\n",
    "agg = agg.drop('player_name')\n",
    "agg = agg.drop('team_id')"
   ]
  },
  {
   "cell_type": "code",
   "execution_count": 9,
   "metadata": {},
   "outputs": [
    {
     "data": {
      "text/plain": [
       "67369231"
      ]
     },
     "execution_count": 9,
     "metadata": {},
     "output_type": "execute_result"
    }
   ],
   "source": [
    "agg.count()"
   ]
  },
  {
   "cell_type": "code",
   "execution_count": 10,
   "metadata": {},
   "outputs": [],
   "source": [
    "agg = agg.na.drop()\n",
    "#Drop the missing value"
   ]
  },
  {
   "cell_type": "code",
   "execution_count": 11,
   "metadata": {},
   "outputs": [
    {
     "data": {
      "text/plain": [
       "67369231"
      ]
     },
     "execution_count": 11,
     "metadata": {},
     "output_type": "execute_result"
    }
   ],
   "source": [
    "agg.count()"
   ]
  },
  {
   "cell_type": "code",
   "execution_count": 22,
   "metadata": {},
   "outputs": [],
   "source": [
    "from pyspark.sql.types import IntegerType"
   ]
  },
  {
   "cell_type": "code",
   "execution_count": 23,
   "metadata": {},
   "outputs": [],
   "source": [
    "agg0 = agg.withColumn('player_dist_ride',agg['player_dist_ride'].cast(IntegerType()))\n",
    "agg0 = agg0.withColumn('player_dist_walk',agg['player_dist_walk'].cast(IntegerType()))\n",
    "agg0 = agg0.withColumn('player_survive_time',agg['player_survive_time'].cast(IntegerType()))\n",
    "#Change the type of some variables into integer."
   ]
  },
  {
   "cell_type": "code",
   "execution_count": 42,
   "metadata": {},
   "outputs": [],
   "source": [
    "from pyspark.ml.feature import OneHotEncoder, StringIndexer, IndexToString, VectorAssembler,StandardScaler"
   ]
  },
  {
   "cell_type": "code",
   "execution_count": 25,
   "metadata": {},
   "outputs": [],
   "source": [
    "indexer1 = StringIndexer(inputCol='match_mode', outputCol=\"matchmode_index\")\n",
    "indexer2 = StringIndexer(inputCol='team_placement', outputCol=\"label\")\n",
    "indexer3 = StringIndexer(inputCol='game_size', outputCol=\"gamesize_index\")\n",
    "indexer4 = StringIndexer(inputCol='party_size', outputCol=\"partysize_index\")\n",
    "#Transform qualitive variables into double type."
   ]
  },
  {
   "cell_type": "code",
   "execution_count": 26,
   "metadata": {},
   "outputs": [],
   "source": [
    "agg1 = indexer1.fit(agg0).transform(agg0)\n",
    "agg1 = indexer2.fit(agg1).transform(agg1)\n",
    "agg1 = indexer3.fit(agg1).transform(agg1)\n",
    "agg1 = indexer4.fit(agg1).transform(agg1)"
   ]
  },
  {
   "cell_type": "code",
   "execution_count": 27,
   "metadata": {},
   "outputs": [
    {
     "name": "stdout",
     "output_type": "stream",
     "text": [
      "+---------+----------+----------+--------------+-----------+----------------+----------------+----------+------------+-------------------+--------------+---------------+-----+--------------+---------------+\n",
      "|game_size|match_mode|party_size|player_assists|player_dbno|player_dist_ride|player_dist_walk|player_dmg|player_kills|player_survive_time|team_placement|matchmode_index|label|gamesize_index|partysize_index|\n",
      "+---------+----------+----------+--------------+-----------+----------------+----------------+----------+------------+-------------------+--------------+---------------+-----+--------------+---------------+\n",
      "|       37|       tpp|         2|             0|          1|            2870|            1784|       117|           1|               1106|            18|            0.0| 15.0|          46.0|            1.0|\n",
      "|       37|       tpp|         2|             0|          1|            2938|            1756|       127|           1|               1106|            18|            0.0| 15.0|          46.0|            1.0|\n",
      "|       37|       tpp|         2|             0|          0|               0|             224|        67|           0|                235|            33|            0.0| 32.0|          46.0|            1.0|\n",
      "|       37|       tpp|         2|             0|          0|               0|              92|         0|           0|                197|            33|            0.0| 32.0|          46.0|            1.0|\n",
      "|       37|       tpp|         2|             0|          0|            2619|            2510|       175|           2|               1537|            11|            0.0| 17.0|          46.0|            1.0|\n",
      "|       37|       tpp|         2|             0|          0|            2896|            2167|        65|           0|               1537|            11|            0.0| 17.0|          46.0|            1.0|\n",
      "|       37|       tpp|         2|             0|          0|               0|            3118|         0|           0|               1264|            17|            0.0| 18.0|          46.0|            1.0|\n",
      "|       37|       tpp|         2|             0|          0|               0|            3237|         0|           0|               1264|            17|            0.0| 18.0|          46.0|            1.0|\n",
      "|       37|       tpp|         2|             0|          0|               0|            1552|        79|           0|                868|            24|            0.0| 14.0|          46.0|            1.0|\n",
      "|       37|       tpp|         2|             0|          1|               0|            1450|       101|           1|                868|            24|            0.0| 14.0|          46.0|            1.0|\n",
      "|       37|       tpp|         2|             0|          1|            2406|            3100|        54|           1|               1939|             4|            0.0|  3.0|          46.0|            1.0|\n",
      "|       37|       tpp|         2|             0|          0|            3135|            2456|        34|           0|               1939|             4|            0.0|  3.0|          46.0|            1.0|\n",
      "|       37|       tpp|         2|             0|          0|               0|              55|         0|           0|                160|            34|            0.0| 33.0|          46.0|            1.0|\n",
      "|       37|       tpp|         2|             0|          1|               0|             129|       215|           2|                180|            34|            0.0| 33.0|          46.0|            1.0|\n",
      "|       37|       tpp|         2|             0|          0|            2418|            2474|        75|           1|               2181|             2|            0.0|  1.0|          46.0|            1.0|\n",
      "|       37|       tpp|         2|             0|          0|            1277|            3286|        84|           1|               2181|             2|            0.0|  1.0|          46.0|            1.0|\n",
      "|       37|       tpp|         2|             0|          0|               0|            2057|         0|           0|               1583|             3|            0.0|  2.0|          46.0|            1.0|\n",
      "|       37|       tpp|         2|             0|          4|               0|            3285|       673|           6|               2009|             3|            0.0|  2.0|          46.0|            1.0|\n",
      "|       37|       tpp|         2|             0|          0|               0|            1522|       117|           1|               1032|            20|            0.0| 10.0|          46.0|            1.0|\n",
      "|       37|       tpp|         2|             0|          1|               0|            1078|       100|           1|                513|            20|            0.0| 10.0|          46.0|            1.0|\n",
      "+---------+----------+----------+--------------+-----------+----------------+----------------+----------+------------+-------------------+--------------+---------------+-----+--------------+---------------+\n",
      "only showing top 20 rows\n",
      "\n"
     ]
    }
   ],
   "source": [
    "agg1.show()"
   ]
  },
  {
   "cell_type": "code",
   "execution_count": 28,
   "metadata": {},
   "outputs": [
    {
     "name": "stdout",
     "output_type": "stream",
     "text": [
      "+-------+-----------------+----------+------------------+-------------------+------------------+------------------+------------------+------------------+------------------+-------------------+------------------+---------------+------------------+------------------+------------------+\n",
      "|summary|        game_size|match_mode|        party_size|     player_assists|       player_dbno|  player_dist_ride|  player_dist_walk|        player_dmg|      player_kills|player_survive_time|    team_placement|matchmode_index|             label|    gamesize_index|   partysize_index|\n",
      "+-------+-----------------+----------+------------------+-------------------+------------------+------------------+------------------+------------------+------------------+-------------------+------------------+---------------+------------------+------------------+------------------+\n",
      "|  count|         67369231|  67369231|          67369231|           67369231|          67369231|          67369231|          67369231|          67369231|          67369231|           67369231|          67369231|       67369231|          67369231|          67369231|          67369231|\n",
      "|   mean|47.15455515589899|      null|2.7333166531172073|0.22963008142396638|0.5843891108093545|1156.0983101321135|1283.6096141575372|123.94440552542451|0.8872670819116223|  2220.506101620783|24.463157565209553|            0.0| 23.38821678104059| 8.843226294211373|0.7375409406113007|\n",
      "| stddev|25.19711460731104|      null| 1.246625693054196| 0.5756859126320127|1.1194821323540098|1999.5690243173885|  4210.93950526787|169.49406706443008|1.5543248649423222| 1755112.8659179332|20.384501327437444|            0.0|20.410610816843946|11.218259719156817|0.7812626826319085|\n",
      "|    min|                1|       tpp|                 1|                  0|                 0|                 0|                 0|                 0|                 0|                  0|                 0|            0.0|               0.0|               0.0|               0.0|\n",
      "|    max|              100|       tpp|                 4|                 13|               148|            506175|           1273645|              9408|                94|         2147483647|               100|            0.0|             100.0|              99.0|               2.0|\n",
      "+-------+-----------------+----------+------------------+-------------------+------------------+------------------+------------------+------------------+------------------+-------------------+------------------+---------------+------------------+------------------+------------------+\n",
      "\n"
     ]
    }
   ],
   "source": [
    "agg1.describe().show()\n",
    "#Summary the data."
   ]
  },
  {
   "cell_type": "code",
   "execution_count": 30,
   "metadata": {},
   "outputs": [],
   "source": [
    "agg1.createOrReplaceTempView('agg')"
   ]
  },
  {
   "cell_type": "code",
   "execution_count": 36,
   "metadata": {},
   "outputs": [],
   "source": [
    "agg2 = spark.sql('select * FROM agg where agg.player_survive_time <5000')\n",
    "#Remove the extrme value of player_survive_time"
   ]
  },
  {
   "cell_type": "code",
   "execution_count": 37,
   "metadata": {},
   "outputs": [
    {
     "data": {
      "text/plain": [
       "67369186"
      ]
     },
     "execution_count": 37,
     "metadata": {},
     "output_type": "execute_result"
    }
   ],
   "source": [
    "agg2.count()"
   ]
  },
  {
   "cell_type": "code",
   "execution_count": 38,
   "metadata": {},
   "outputs": [],
   "source": [
    "vectorAssembler_features = VectorAssembler(\n",
    "    inputCols=['player_assists','player_dbno','player_dist_ride','player_dist_walk','player_dmg','player_kills','player_survive_time','matchmode_index',\"gamesize_index\",\"partysize_index\"], \n",
    "    outputCol=\"features\",handleInvalid=\"skip\")"
   ]
  },
  {
   "cell_type": "code",
   "execution_count": 39,
   "metadata": {},
   "outputs": [],
   "source": [
    "agg3 = vectorAssembler_features.transform(agg2)\n",
    "#Create the features vector"
   ]
  },
  {
   "cell_type": "code",
   "execution_count": 40,
   "metadata": {},
   "outputs": [
    {
     "data": {
      "text/plain": [
       "[Row(features=DenseVector([0.0, 1.0, 2870.0, 1784.0, 117.0, 1.0, 1106.0, 0.0, 46.0, 1.0])),\n",
       " Row(features=DenseVector([0.0, 1.0, 2938.0, 1756.0, 127.0, 1.0, 1106.0, 0.0, 46.0, 1.0])),\n",
       " Row(features=SparseVector(10, {3: 224.0, 4: 67.0, 6: 235.0, 8: 46.0, 9: 1.0})),\n",
       " Row(features=SparseVector(10, {3: 92.0, 6: 197.0, 8: 46.0, 9: 1.0})),\n",
       " Row(features=DenseVector([0.0, 0.0, 2619.0, 2510.0, 175.0, 2.0, 1537.0, 0.0, 46.0, 1.0])),\n",
       " Row(features=DenseVector([0.0, 0.0, 2896.0, 2167.0, 65.0, 0.0, 1537.0, 0.0, 46.0, 1.0])),\n",
       " Row(features=SparseVector(10, {3: 3118.0, 6: 1264.0, 8: 46.0, 9: 1.0})),\n",
       " Row(features=SparseVector(10, {3: 3237.0, 6: 1264.0, 8: 46.0, 9: 1.0})),\n",
       " Row(features=SparseVector(10, {3: 1552.0, 4: 79.0, 6: 868.0, 8: 46.0, 9: 1.0})),\n",
       " Row(features=DenseVector([0.0, 1.0, 0.0, 1450.0, 101.0, 1.0, 868.0, 0.0, 46.0, 1.0])),\n",
       " Row(features=DenseVector([0.0, 1.0, 2406.0, 3100.0, 54.0, 1.0, 1939.0, 0.0, 46.0, 1.0])),\n",
       " Row(features=DenseVector([0.0, 0.0, 3135.0, 2456.0, 34.0, 0.0, 1939.0, 0.0, 46.0, 1.0])),\n",
       " Row(features=SparseVector(10, {3: 55.0, 6: 160.0, 8: 46.0, 9: 1.0})),\n",
       " Row(features=DenseVector([0.0, 1.0, 0.0, 129.0, 215.0, 2.0, 180.0, 0.0, 46.0, 1.0])),\n",
       " Row(features=DenseVector([0.0, 0.0, 2418.0, 2474.0, 75.0, 1.0, 2181.0, 0.0, 46.0, 1.0]))]"
      ]
     },
     "execution_count": 40,
     "metadata": {},
     "output_type": "execute_result"
    }
   ],
   "source": [
    "agg3.select('features').take(15)"
   ]
  },
  {
   "cell_type": "code",
   "execution_count": 44,
   "metadata": {},
   "outputs": [],
   "source": [
    "scal = StandardScaler(inputCol='features',outputCol='stdfeatures',withStd=True, withMean=False)"
   ]
  },
  {
   "cell_type": "code",
   "execution_count": 45,
   "metadata": {},
   "outputs": [],
   "source": [
    "agg4 = scal.fit(agg3).transform(agg3)\n",
    "#Scale the features"
   ]
  },
  {
   "cell_type": "code",
   "execution_count": 46,
   "metadata": {},
   "outputs": [
    {
     "name": "stdout",
     "output_type": "stream",
     "text": [
      "root\n",
      " |-- game_size: integer (nullable = true)\n",
      " |-- match_mode: string (nullable = true)\n",
      " |-- party_size: integer (nullable = true)\n",
      " |-- player_assists: integer (nullable = true)\n",
      " |-- player_dbno: integer (nullable = true)\n",
      " |-- player_dist_ride: integer (nullable = true)\n",
      " |-- player_dist_walk: integer (nullable = true)\n",
      " |-- player_dmg: integer (nullable = true)\n",
      " |-- player_kills: integer (nullable = true)\n",
      " |-- player_survive_time: integer (nullable = true)\n",
      " |-- team_placement: integer (nullable = true)\n",
      " |-- matchmode_index: double (nullable = false)\n",
      " |-- label: double (nullable = false)\n",
      " |-- gamesize_index: double (nullable = false)\n",
      " |-- partysize_index: double (nullable = false)\n",
      " |-- features: vector (nullable = true)\n",
      " |-- stdfeatures: vector (nullable = true)\n",
      "\n"
     ]
    }
   ],
   "source": [
    "agg4.printSchema()"
   ]
  },
  {
   "cell_type": "code",
   "execution_count": 47,
   "metadata": {},
   "outputs": [
    {
     "data": {
      "text/plain": [
       "[Row(stdfeatures=DenseVector([0.0, 0.8933, 1.4353, 0.4237, 0.6903, 0.6434, 1.9202, 0.0, 4.1005, 1.28])),\n",
       " Row(stdfeatures=DenseVector([0.0, 0.8933, 1.4693, 0.417, 0.7493, 0.6434, 1.9202, 0.0, 4.1005, 1.28])),\n",
       " Row(stdfeatures=SparseVector(10, {3: 0.0532, 4: 0.3953, 6: 0.408, 8: 4.1005, 9: 1.28})),\n",
       " Row(stdfeatures=SparseVector(10, {3: 0.0218, 6: 0.342, 8: 4.1005, 9: 1.28})),\n",
       " Row(stdfeatures=DenseVector([0.0, 0.0, 1.3098, 0.5961, 1.0325, 1.2867, 2.6684, 0.0, 4.1005, 1.28])),\n",
       " Row(stdfeatures=DenseVector([0.0, 0.0, 1.4483, 0.5146, 0.3835, 0.0, 2.6684, 0.0, 4.1005, 1.28])),\n",
       " Row(stdfeatures=SparseVector(10, {3: 0.7405, 6: 2.1945, 8: 4.1005, 9: 1.28})),\n",
       " Row(stdfeatures=SparseVector(10, {3: 0.7687, 6: 2.1945, 8: 4.1005, 9: 1.28})),\n",
       " Row(stdfeatures=SparseVector(10, {3: 0.3686, 4: 0.4661, 6: 1.507, 8: 4.1005, 9: 1.28})),\n",
       " Row(stdfeatures=DenseVector([0.0, 0.8933, 0.0, 0.3443, 0.5959, 0.6434, 1.507, 0.0, 4.1005, 1.28])),\n",
       " Row(stdfeatures=DenseVector([0.0, 0.8933, 1.2033, 0.7362, 0.3186, 0.6434, 3.3664, 0.0, 4.1005, 1.28])),\n",
       " Row(stdfeatures=DenseVector([0.0, 0.0, 1.5679, 0.5832, 0.2006, 0.0, 3.3664, 0.0, 4.1005, 1.28])),\n",
       " Row(stdfeatures=SparseVector(10, {3: 0.0131, 6: 0.2778, 8: 4.1005, 9: 1.28})),\n",
       " Row(stdfeatures=DenseVector([0.0, 0.8933, 0.0, 0.0306, 1.2685, 1.2867, 0.3125, 0.0, 4.1005, 1.28])),\n",
       " Row(stdfeatures=DenseVector([0.0, 0.0, 1.2093, 0.5875, 0.4425, 0.6434, 3.7865, 0.0, 4.1005, 1.28]))]"
      ]
     },
     "execution_count": 47,
     "metadata": {},
     "output_type": "execute_result"
    }
   ],
   "source": [
    "agg4.select('stdfeatures').take(15)"
   ]
  },
  {
   "cell_type": "code",
   "execution_count": 48,
   "metadata": {},
   "outputs": [],
   "source": [
    "agg4.write.parquet('s3://502pubg/clean/aggeragate3.parquet')"
   ]
  },
  {
   "cell_type": "markdown",
   "metadata": {},
   "source": [
    "# DATA2 Deaths"
   ]
  },
  {
   "cell_type": "code",
   "execution_count": 50,
   "metadata": {},
   "outputs": [],
   "source": [
    "path0 = 's3://502pubg/deaths/kill_match_stats_final_0.csv'\n",
    "path1 = 's3://502pubg/deaths/kill_match_stats_final_1.csv'\n",
    "path2 = 's3://502pubg/deaths/kill_match_stats_final_2.csv'\n",
    "path3 = 's3://502pubg/deaths/kill_match_stats_final_3.csv'\n",
    "path4 = 's3://502pubg/deaths/kill_match_stats_final_4.csv'"
   ]
  },
  {
   "cell_type": "code",
   "execution_count": 51,
   "metadata": {},
   "outputs": [],
   "source": [
    "kill0 = spark.read.csv(path0, header=True, inferSchema=True)\n",
    "kill1 = spark.read.csv(path1, header=True, inferSchema=True)\n",
    "kill2 = spark.read.csv(path2, header=True, inferSchema=True)\n",
    "kill3 = spark.read.csv(path3, header=True, inferSchema=True)\n",
    "kill4 = spark.read.csv(path4, header=True, inferSchema=True)\n",
    "#Read the data"
   ]
  },
  {
   "cell_type": "code",
   "execution_count": 52,
   "metadata": {},
   "outputs": [
    {
     "data": {
      "text/plain": [
       "13426348"
      ]
     },
     "execution_count": 52,
     "metadata": {},
     "output_type": "execute_result"
    }
   ],
   "source": [
    "kill0.count()"
   ]
  },
  {
   "cell_type": "code",
   "execution_count": 53,
   "metadata": {},
   "outputs": [],
   "source": [
    "kill = kill0.union(kill1)\n",
    "kill = kill.union(kill2)\n",
    "kill = kill.union(kill3)\n",
    "kill = kill.union(kill4)\n",
    "#Combine the files"
   ]
  },
  {
   "cell_type": "code",
   "execution_count": 54,
   "metadata": {},
   "outputs": [
    {
     "name": "stdout",
     "output_type": "stream",
     "text": [
      "root\n",
      " |-- killed_by: string (nullable = true)\n",
      " |-- killer_name: string (nullable = true)\n",
      " |-- killer_placement: double (nullable = true)\n",
      " |-- killer_position_x: double (nullable = true)\n",
      " |-- killer_position_y: double (nullable = true)\n",
      " |-- map: string (nullable = true)\n",
      " |-- match_id: string (nullable = true)\n",
      " |-- time: integer (nullable = true)\n",
      " |-- victim_name: string (nullable = true)\n",
      " |-- victim_placement: double (nullable = true)\n",
      " |-- victim_position_x: double (nullable = true)\n",
      " |-- victim_position_y: double (nullable = true)\n",
      "\n"
     ]
    }
   ],
   "source": [
    "kill.printSchema()\n",
    "#show the schema of the original data."
   ]
  },
  {
   "cell_type": "code",
   "execution_count": 55,
   "metadata": {},
   "outputs": [
    {
     "name": "stdout",
     "output_type": "stream",
     "text": [
      "+------------+----------------+----------------+-----------------+-----------------+-------+--------------------+----+---------------+----------------+-----------------+-----------------+\n",
      "|   killed_by|     killer_name|killer_placement|killer_position_x|killer_position_y|    map|            match_id|time|    victim_name|victim_placement|victim_position_x|victim_position_y|\n",
      "+------------+----------------+----------------+-----------------+-----------------+-------+--------------------+----+---------------+----------------+-----------------+-----------------+\n",
      "|     Grenade| KrazyPortuguese|             5.0|         657725.1|         146275.2|MIRAMAR|2U4GBNA0YmnLSqvEy...| 823|KrazyPortuguese|             5.0|         657725.1|         146275.2|\n",
      "|      SCAR-L|nide2Bxiaojiejie|            31.0|         93091.37|         722236.4|MIRAMAR|2U4GBNA0YmnLSqvEy...| 194|    X3evolution|            33.0|         92238.68|         723375.1|\n",
      "|        S686|        Ascholes|            43.0|         366921.4|         421623.9|MIRAMAR|2U4GBNA0YmnLSqvEy...| 103|        CtrlZee|            46.0|         367304.5|         421216.1|\n",
      "|Down and Out|      Weirdo7777|             9.0|         472014.2|         313274.8|MIRAMAR|2U4GBNA0YmnLSqvEy...|1018|      BlackDpre|            13.0|         476645.9|         316758.4|\n",
      "|        M416|       Solayuki1|             9.0|         473357.8|         318340.5|MIRAMAR|2U4GBNA0YmnLSqvEy...|1018|          Vjolt|            13.0|         473588.5|         318418.8|\n",
      "|       Punch|   xuezhiqian717|            26.0|         721944.4|         359575.3|MIRAMAR|2U4GBNA0YmnLSqvEy...| 123| PurplePenguin9|            47.0|              0.0|              0.0|\n",
      "|         AKM|       pdfjkkvjk|            12.0|         376333.8|         317858.9|MIRAMAR|2U4GBNA0YmnLSqvEy...| 886|     JoeyJoeman|            15.0|         372808.3|         297124.2|\n",
      "|        S686|       xiaogao13|            27.0|         373125.3|         433540.6|MIRAMAR|2U4GBNA0YmnLSqvEy...| 137|         BNOISE|            38.0|         373125.8|         433608.8|\n",
      "|        S686|       Jingchita|            40.0|         370990.6|         424074.5|MIRAMAR|2U4GBNA0YmnLSqvEy...|  89|    OmGiTzPauly|            47.0|         370761.1|         423662.1|\n",
      "|         AKM|    Alexande-999|            25.0|         368799.3|         420810.2|MIRAMAR|2U4GBNA0YmnLSqvEy...| 117|       Ascholes|            43.0|         368015.0|         421322.6|\n",
      "|       Punch|    NameLessisME|             8.0|         434351.8|         278681.6|MIRAMAR|2U4GBNA0YmnLSqvEy...| 165|       Haten-Gu|            28.0|         434383.5|         278608.1|\n",
      "|         P92|      Daerljgodi|            20.0|         365983.6|         439563.8|MIRAMAR|2U4GBNA0YmnLSqvEy...| 111|      BigBeefyy|            38.0|         366246.5|         439890.6|\n",
      "|        S686|        JoyFeng-|             3.0|         363435.6|         423069.7|MIRAMAR|2U4GBNA0YmnLSqvEy...| 406|   WalrusInHeat|            23.0|         363666.7|         423256.1|\n",
      "|        M416|    NameLessisME|             8.0|         374980.3|         293019.5|MIRAMAR|2U4GBNA0YmnLSqvEy...| 883|     Dinostoned|            15.0|         375053.3|         293151.7|\n",
      "|Down and Out|   UrGrandFather|            14.0|         535680.8|         368517.3|MIRAMAR|2U4GBNA0YmnLSqvEy...| 751|          Pis22|            null|         533947.6|         366812.6|\n",
      "|       Punch|   xuezhiqian717|            26.0|         725042.3|         361510.1|MIRAMAR|2U4GBNA0YmnLSqvEy...| 139|  patrickmoneyy|            47.0|              0.0|              0.0|\n",
      "|       Win94|   FantasticBoys|             2.0|         384599.4|         437149.5|MIRAMAR|2U4GBNA0YmnLSqvEy...| 127|     ImSoPhamcy|            42.0|         383677.7|         443822.2|\n",
      "|        M416|       PPPIGFEET|            26.0|         363133.9|         430829.4|MIRAMAR|2U4GBNA0YmnLSqvEy...| 229|     Northidaho|            30.0|         363109.9|         430999.2|\n",
      "|       M16A4|       EnGliSh22|             5.0|         582324.7|         251006.2|MIRAMAR|2U4GBNA0YmnLSqvEy...|1181|     BuckFutt22|            11.0|         584332.7|         252824.0|\n",
      "|        S12K|        Bookinga|            44.0|         371186.5|         423791.3|MIRAMAR|2U4GBNA0YmnLSqvEy...|  97|      BergerBoi|            47.0|         371092.2|         423650.7|\n",
      "+------------+----------------+----------------+-----------------+-----------------+-------+--------------------+----+---------------+----------------+-----------------+-----------------+\n",
      "only showing top 20 rows\n",
      "\n"
     ]
    }
   ],
   "source": [
    "kill.show()\n",
    "#show the data"
   ]
  },
  {
   "cell_type": "code",
   "execution_count": 56,
   "metadata": {},
   "outputs": [
    {
     "data": {
      "text/plain": [
       "65370475"
      ]
     },
     "execution_count": 56,
     "metadata": {},
     "output_type": "execute_result"
    }
   ],
   "source": [
    "kill.count()\n",
    "# show the count of the data"
   ]
  },
  {
   "cell_type": "code",
   "execution_count": 57,
   "metadata": {},
   "outputs": [],
   "source": [
    "kill0 = kill.na.drop()\n",
    "# remove the missing value"
   ]
  },
  {
   "cell_type": "code",
   "execution_count": 58,
   "metadata": {},
   "outputs": [
    {
     "data": {
      "text/plain": [
       "58923976"
      ]
     },
     "execution_count": 58,
     "metadata": {},
     "output_type": "execute_result"
    }
   ],
   "source": [
    "kill0.count()"
   ]
  },
  {
   "cell_type": "code",
   "execution_count": 59,
   "metadata": {},
   "outputs": [],
   "source": [
    "kill0 = kill0.drop('killer_name')\n",
    "kill0 = kill0.drop('match_id')\n",
    "kill0 = kill0.drop('victim_name')\n",
    "#drop the unused variables"
   ]
  },
  {
   "cell_type": "code",
   "execution_count": 60,
   "metadata": {},
   "outputs": [],
   "source": [
    "#Create a new feature that calculate the distance of killer and vic.\n",
    "kill0.createOrReplaceTempView('kill0')"
   ]
  },
  {
   "cell_type": "code",
   "execution_count": 63,
   "metadata": {},
   "outputs": [],
   "source": [
    "from pyspark.sql.functions import col,monotonically_increasing_id"
   ]
  },
  {
   "cell_type": "code",
   "execution_count": 61,
   "metadata": {},
   "outputs": [],
   "source": [
    "x1=spark.sql('select Power((Power((killer_position_x-victim_position_x),2)+Power((killer_position_y-victim_position_y),2)),0.5) AS DIST from kill0').cache()"
   ]
  },
  {
   "cell_type": "code",
   "execution_count": 64,
   "metadata": {},
   "outputs": [],
   "source": [
    "x1=x1.withColumn('id',monotonically_increasing_id())"
   ]
  },
  {
   "cell_type": "code",
   "execution_count": 66,
   "metadata": {},
   "outputs": [],
   "source": [
    "kill0 = kill0.withColumn('id',monotonically_increasing_id())"
   ]
  },
  {
   "cell_type": "code",
   "execution_count": 67,
   "metadata": {},
   "outputs": [],
   "source": [
    "kill1 = kill0.join(x1,kill0.id==x1.id,'inner')"
   ]
  },
  {
   "cell_type": "code",
   "execution_count": 68,
   "metadata": {},
   "outputs": [
    {
     "name": "stdout",
     "output_type": "stream",
     "text": [
      "root\n",
      " |-- killed_by: string (nullable = true)\n",
      " |-- killer_placement: double (nullable = true)\n",
      " |-- killer_position_x: double (nullable = true)\n",
      " |-- killer_position_y: double (nullable = true)\n",
      " |-- map: string (nullable = true)\n",
      " |-- time: integer (nullable = true)\n",
      " |-- victim_placement: double (nullable = true)\n",
      " |-- victim_position_x: double (nullable = true)\n",
      " |-- victim_position_y: double (nullable = true)\n",
      " |-- id: long (nullable = false)\n",
      " |-- DIST: double (nullable = true)\n",
      " |-- id: long (nullable = false)\n",
      "\n"
     ]
    }
   ],
   "source": [
    "kill1.printSchema()"
   ]
  },
  {
   "cell_type": "code",
   "execution_count": 69,
   "metadata": {},
   "outputs": [],
   "source": [
    "kill1 = kill1.drop('id')"
   ]
  },
  {
   "cell_type": "code",
   "execution_count": 70,
   "metadata": {},
   "outputs": [
    {
     "name": "stdout",
     "output_type": "stream",
     "text": [
      "+------------+----------------+-----------------+-----------------+-------+----+----------------+-----------------+-----------------+------------------+\n",
      "|   killed_by|killer_placement|killer_position_x|killer_position_y|    map|time|victim_placement|victim_position_x|victim_position_y|              DIST|\n",
      "+------------+----------------+-----------------+-----------------+-------+----+----------------+-----------------+-----------------+------------------+\n",
      "|       Punch|            31.0|         85697.73|         711625.3|MIRAMAR| 158|            33.0|         85646.66|         711693.0| 84.80232838780385|\n",
      "|   Tommy Gun|            29.0|         432354.2|         552524.8|MIRAMAR| 175|            34.0|         432617.8|         552224.6| 399.5059448869687|\n",
      "|       R1895|             5.0|         345684.9|         397896.6|ERANGEL| 125|            87.0|         344500.9|         396724.2|1666.2466083986242|\n",
      "|        UMP9|            12.0|         645433.8|         320882.0|ERANGEL| 461|            22.0|         645992.1|         320828.6| 560.8479740535081|\n",
      "|       M16A4|             4.0|         627832.9|         378428.3|ERANGEL| 146|            29.0|         627556.4|         378382.2| 280.3167137364411|\n",
      "|       Punch|            18.0|         376543.9|         138312.4|ERANGEL| 241|            25.0|         376456.5|         138269.6| 97.31700776330453|\n",
      "|        UMP9|             5.0|         370781.7|         423425.4|MIRAMAR| 104|            26.0|         370513.2|         424043.9| 674.2658971058821|\n",
      "|        S686|            57.0|         470171.2|         639630.0|ERANGEL| 183|            71.0|         468565.6|         639557.5|1607.2360156492612|\n",
      "|         AKM|             3.0|         678072.1|         511459.2|ERANGEL| 191|            84.0|         678129.9|         511546.2|104.45017951159961|\n",
      "|       Punch|            28.0|         424214.1|         326557.9|ERANGEL| 116|            27.0|         424110.1|         325682.3| 881.7547051193212|\n",
      "|Down and Out|             2.0|         271336.2|         484083.6|ERANGEL|1752|             3.0|         276089.4|         466095.6|18605.403898867666|\n",
      "|Down and Out|             5.0|         419428.4|         380587.8|ERANGEL|1291|            11.0|         414475.6|         381245.0| 4996.212533509806|\n",
      "|Down and Out|            23.0|         622305.5|         374091.6|ERANGEL| 120|            35.0|         622049.5|         374293.9| 326.2840633558722|\n",
      "|       S1897|            72.0|         158145.3|         413125.2|ERANGEL| 123|            79.0|         157700.8|         413029.4|454.70637778680623|\n",
      "|Down and Out|             8.0|         573668.1|         258987.0|ERANGEL| 969|            16.0|         567267.1|         258867.2| 6402.120979800366|\n",
      "|   Tommy Gun|            13.0|         555315.8|         231667.8|ERANGEL| 158|            10.0|         555328.8|         232133.9|  466.281256324984|\n",
      "|Down and Out|            35.0|         399587.8|         352901.6|ERANGEL| 308|            44.0|         399660.4|         352988.7|113.38946159150397|\n",
      "|Down and Out|            14.0|         361579.5|         404009.3|ERANGEL| 345|            22.0|         361198.6|         403490.2| 643.8552787699994|\n",
      "|   Micro UZI|             9.0|         357641.3|         405833.5|ERANGEL| 457|            19.0|         358168.6|         406327.0| 722.2101771645064|\n",
      "|       M16A4|            77.0|         198641.1|         289391.5|ERANGEL|  81|            95.0|         199311.3|         286932.6|2548.5990759631245|\n",
      "+------------+----------------+-----------------+-----------------+-------+----+----------------+-----------------+-----------------+------------------+\n",
      "only showing top 20 rows\n",
      "\n"
     ]
    }
   ],
   "source": [
    "kill1.show()"
   ]
  },
  {
   "cell_type": "code",
   "execution_count": 71,
   "metadata": {},
   "outputs": [],
   "source": [
    "ind1 = StringIndexer(inputCol='killed_by',outputCol='weaponindex')\n",
    "ind2 = StringIndexer(inputCol='map',outputCol='mapindex')"
   ]
  },
  {
   "cell_type": "code",
   "execution_count": 72,
   "metadata": {},
   "outputs": [],
   "source": [
    "kill2 = ind1.fit(kill1).transform(kill1)\n",
    "kill2 = ind2.fit(kill2).transform(kill2)\n",
    "#Transfer the categorial data type."
   ]
  },
  {
   "cell_type": "code",
   "execution_count": 73,
   "metadata": {},
   "outputs": [],
   "source": [
    "vectorAssembler_features = VectorAssembler(\n",
    "    inputCols=['killer_position_x','killer_position_y','victim_position_x','victim_position_y','DIST','weaponindex','mapindex'], \n",
    "    outputCol=\"features\",handleInvalid=\"skip\")"
   ]
  },
  {
   "cell_type": "code",
   "execution_count": 74,
   "metadata": {},
   "outputs": [],
   "source": [
    "kill3 = vectorAssembler_features.transform(kill2)\n",
    "# create the feature vector"
   ]
  },
  {
   "cell_type": "code",
   "execution_count": 75,
   "metadata": {},
   "outputs": [
    {
     "name": "stdout",
     "output_type": "stream",
     "text": [
      "+------------+----------------+-----------------+-----------------+-------+----+----------------+-----------------+-----------------+------------------+-----------+--------+--------------------+\n",
      "|   killed_by|killer_placement|killer_position_x|killer_position_y|    map|time|victim_placement|victim_position_x|victim_position_y|              DIST|weaponindex|mapindex|            features|\n",
      "+------------+----------------+-----------------+-----------------+-------+----+----------------+-----------------+-----------------+------------------+-----------+--------+--------------------+\n",
      "|       Punch|            31.0|         85697.73|         711625.3|MIRAMAR| 158|            33.0|         85646.66|         711693.0| 84.80232838780385|        8.0|     1.0|[85697.73,711625....|\n",
      "|   Tommy Gun|            29.0|         432354.2|         552524.8|MIRAMAR| 175|            34.0|         432617.8|         552224.6| 399.5059448869687|       15.0|     1.0|[432354.2,552524....|\n",
      "|       R1895|             5.0|         345684.9|         397896.6|ERANGEL| 125|            87.0|         344500.9|         396724.2|1666.2466083986242|       25.0|     0.0|[345684.9,397896....|\n",
      "|        UMP9|            12.0|         645433.8|         320882.0|ERANGEL| 461|            22.0|         645992.1|         320828.6| 560.8479740535081|        5.0|     0.0|[645433.8,320882....|\n",
      "|       M16A4|             4.0|         627832.9|         378428.3|ERANGEL| 146|            29.0|         627556.4|         378382.2| 280.3167137364411|        3.0|     0.0|[627832.9,378428....|\n",
      "|       Punch|            18.0|         376543.9|         138312.4|ERANGEL| 241|            25.0|         376456.5|         138269.6| 97.31700776330453|        8.0|     0.0|[376543.9,138312....|\n",
      "|        UMP9|             5.0|         370781.7|         423425.4|MIRAMAR| 104|            26.0|         370513.2|         424043.9| 674.2658971058821|        5.0|     1.0|[370781.7,423425....|\n",
      "|        S686|            57.0|         470171.2|         639630.0|ERANGEL| 183|            71.0|         468565.6|         639557.5|1607.2360156492612|       10.0|     0.0|[470171.2,639630....|\n",
      "|         AKM|             3.0|         678072.1|         511459.2|ERANGEL| 191|            84.0|         678129.9|         511546.2|104.45017951159961|        4.0|     0.0|[678072.1,511459....|\n",
      "|       Punch|            28.0|         424214.1|         326557.9|ERANGEL| 116|            27.0|         424110.1|         325682.3| 881.7547051193212|        8.0|     0.0|[424214.1,326557....|\n",
      "|Down and Out|             2.0|         271336.2|         484083.6|ERANGEL|1752|             3.0|         276089.4|         466095.6|18605.403898867666|        0.0|     0.0|[271336.2,484083....|\n",
      "|Down and Out|             5.0|         419428.4|         380587.8|ERANGEL|1291|            11.0|         414475.6|         381245.0| 4996.212533509806|        0.0|     0.0|[419428.4,380587....|\n",
      "|Down and Out|            23.0|         622305.5|         374091.6|ERANGEL| 120|            35.0|         622049.5|         374293.9| 326.2840633558722|        0.0|     0.0|[622305.5,374091....|\n",
      "|       S1897|            72.0|         158145.3|         413125.2|ERANGEL| 123|            79.0|         157700.8|         413029.4|454.70637778680623|        6.0|     0.0|[158145.3,413125....|\n",
      "|Down and Out|             8.0|         573668.1|         258987.0|ERANGEL| 969|            16.0|         567267.1|         258867.2| 6402.120979800366|        0.0|     0.0|[573668.1,258987....|\n",
      "|   Tommy Gun|            13.0|         555315.8|         231667.8|ERANGEL| 158|            10.0|         555328.8|         232133.9|  466.281256324984|       15.0|     0.0|[555315.8,231667....|\n",
      "|Down and Out|            35.0|         399587.8|         352901.6|ERANGEL| 308|            44.0|         399660.4|         352988.7|113.38946159150397|        0.0|     0.0|[399587.8,352901....|\n",
      "|Down and Out|            14.0|         361579.5|         404009.3|ERANGEL| 345|            22.0|         361198.6|         403490.2| 643.8552787699994|        0.0|     0.0|[361579.5,404009....|\n",
      "|   Micro UZI|             9.0|         357641.3|         405833.5|ERANGEL| 457|            19.0|         358168.6|         406327.0| 722.2101771645064|       13.0|     0.0|[357641.3,405833....|\n",
      "|       M16A4|            77.0|         198641.1|         289391.5|ERANGEL|  81|            95.0|         199311.3|         286932.6|2548.5990759631245|        3.0|     0.0|[198641.1,289391....|\n",
      "+------------+----------------+-----------------+-----------------+-------+----+----------------+-----------------+-----------------+------------------+-----------+--------+--------------------+\n",
      "only showing top 20 rows\n",
      "\n"
     ]
    }
   ],
   "source": [
    "kill3.show()"
   ]
  },
  {
   "cell_type": "code",
   "execution_count": 76,
   "metadata": {},
   "outputs": [],
   "source": [
    "std2 = StandardScaler(inputCol='features',outputCol='stdfeatures')\n",
    "#make the feature scale."
   ]
  },
  {
   "cell_type": "code",
   "execution_count": 77,
   "metadata": {},
   "outputs": [],
   "source": [
    "kill4 = std2.fit(kill3).transform(kill3)"
   ]
  },
  {
   "cell_type": "code",
   "execution_count": 78,
   "metadata": {},
   "outputs": [
    {
     "data": {
      "text/plain": [
       "[Row(stdfeatures=DenseVector([0.6012, 5.0881, 0.5675, 4.8261, 0.0009, 1.1151, 2.611])),\n",
       " Row(stdfeatures=DenseVector([3.033, 3.9505, 2.8666, 3.7447, 0.004, 2.0908, 2.611])),\n",
       " Row(stdfeatures=DenseVector([2.425, 2.8449, 2.2827, 2.6902, 0.0167, 3.4846, 0.0])),\n",
       " Row(stdfeatures=DenseVector([4.5278, 2.2943, 4.2805, 2.1756, 0.0056, 0.6969, 0.0])),\n",
       " Row(stdfeatures=DenseVector([4.4043, 2.7057, 4.1583, 2.5659, 0.0028, 0.4182, 0.0])),\n",
       " Row(stdfeatures=DenseVector([2.6415, 0.9889, 2.4945, 0.9376, 0.001, 1.1151, 0.0])),\n",
       " Row(stdfeatures=DenseVector([2.6011, 3.0275, 2.4551, 2.8755, 0.0068, 0.6969, 2.611])),\n",
       " Row(stdfeatures=DenseVector([3.2983, 4.5733, 3.1048, 4.3369, 0.0161, 1.3939, 0.0])),\n",
       " Row(stdfeatures=DenseVector([4.7568, 3.6569, 4.4934, 3.4689, 0.001, 0.5575, 0.0])),\n",
       " Row(stdfeatures=DenseVector([2.9759, 2.3349, 2.8102, 2.2085, 0.0088, 1.1151, 0.0]))]"
      ]
     },
     "execution_count": 78,
     "metadata": {},
     "output_type": "execute_result"
    }
   ],
   "source": [
    "kill4.select('stdfeatures').take(10)"
   ]
  },
  {
   "cell_type": "code",
   "execution_count": 79,
   "metadata": {},
   "outputs": [
    {
     "name": "stdout",
     "output_type": "stream",
     "text": [
      "root\n",
      " |-- killed_by: string (nullable = true)\n",
      " |-- killer_placement: double (nullable = true)\n",
      " |-- killer_position_x: double (nullable = true)\n",
      " |-- killer_position_y: double (nullable = true)\n",
      " |-- map: string (nullable = true)\n",
      " |-- time: integer (nullable = true)\n",
      " |-- victim_placement: double (nullable = true)\n",
      " |-- victim_position_x: double (nullable = true)\n",
      " |-- victim_position_y: double (nullable = true)\n",
      " |-- DIST: double (nullable = true)\n",
      " |-- weaponindex: double (nullable = false)\n",
      " |-- mapindex: double (nullable = false)\n",
      " |-- features: vector (nullable = true)\n",
      " |-- stdfeatures: vector (nullable = true)\n",
      "\n"
     ]
    }
   ],
   "source": [
    "kill4.printSchema()"
   ]
  },
  {
   "cell_type": "code",
   "execution_count": 80,
   "metadata": {},
   "outputs": [],
   "source": [
    "kill4.write.parquet('s3://502pubg/clean/kill2.parquet')"
   ]
  }
 ],
 "metadata": {
  "kernelspec": {
   "display_name": "Python 3",
   "language": "python",
   "name": "python3"
  },
  "language_info": {
   "codemirror_mode": {
    "name": "ipython",
    "version": 3
   },
   "file_extension": ".py",
   "mimetype": "text/x-python",
   "name": "python",
   "nbconvert_exporter": "python",
   "pygments_lexer": "ipython3",
   "version": "3.7.6"
  }
 },
 "nbformat": 4,
 "nbformat_minor": 4
}
