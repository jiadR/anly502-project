{
 "cells": [
  {
   "cell_type": "code",
   "execution_count": 1,
   "metadata": {},
   "outputs": [],
   "source": [
    "import findspark\n",
    "findspark.init()\n",
    "from pyspark.sql import SparkSession\n",
    "spark = SparkSession.builder.appName(\"weapon\").getOrCreate()"
   ]
  },
  {
   "cell_type": "code",
   "execution_count": 2,
   "metadata": {},
   "outputs": [
    {
     "data": {
      "text/html": [
       "\n",
       "            <div>\n",
       "                <p><b>SparkSession - in-memory</b></p>\n",
       "                \n",
       "        <div>\n",
       "            <p><b>SparkContext</b></p>\n",
       "\n",
       "            <p><a href=\"http://ip-172-31-75-13.ec2.internal:4040\">Spark UI</a></p>\n",
       "\n",
       "            <dl>\n",
       "              <dt>Version</dt>\n",
       "                <dd><code>v2.4.4</code></dd>\n",
       "              <dt>Master</dt>\n",
       "                <dd><code>yarn</code></dd>\n",
       "              <dt>AppName</dt>\n",
       "                <dd><code>weapon</code></dd>\n",
       "            </dl>\n",
       "        </div>\n",
       "        \n",
       "            </div>\n",
       "        "
      ],
      "text/plain": [
       "<pyspark.sql.session.SparkSession at 0x7fea6c6bf410>"
      ]
     },
     "execution_count": 2,
     "metadata": {},
     "output_type": "execute_result"
    }
   ],
   "source": [
    "spark"
   ]
  },
  {
   "cell_type": "code",
   "execution_count": 3,
   "metadata": {},
   "outputs": [],
   "source": [
    "kill1 = spark.read.parquet('s3://502pubg/clean/kill1.parquet')\n",
    "# read data"
   ]
  },
  {
   "cell_type": "code",
   "execution_count": 4,
   "metadata": {},
   "outputs": [
    {
     "name": "stdout",
     "output_type": "stream",
     "text": [
      "+------------+----------------+-----------------+-----------------+-------+----+----------------+-----------------+-----------------+------------------+-----------+--------+--------------------+--------------------+\n",
      "|   killed_by|killer_placement|killer_position_x|killer_position_y|    map|time|victim_placement|victim_position_x|victim_position_y|              DIST|weaponindex|mapindex|            features|         stdfeatures|\n",
      "+------------+----------------+-----------------+-----------------+-------+----+----------------+-----------------+-----------------+------------------+-----------+--------+--------------------+--------------------+\n",
      "|Down and Out|             1.0|           176803|           323455|ERANGEL|1675|             5.0|           170991|           346383| 23653.17162665506|        0.0|     0.0|[176803.0,323455....|[1.24029993660454...|\n",
      "|         P92|            15.0|           467150|           640876|ERANGEL|  94|            23.0|           467290|           640992| 181.8130908378162|       17.0|     0.0|[467150.0,640876....|[3.27712830316688...|\n",
      "|         AKM|             1.0|           460399|           333862|ERANGEL|1439|            10.0|           458836|           340737| 7050.432185334456|        4.0|     0.0|[460399.0,333862....|[3.22976901134481...|\n",
      "|       M16A4|             1.0|           532206|           245376|ERANGEL| 399|            22.0|           532237|           244248|1128.4258947755498|        3.0|     0.0|[532206.0,245376....|[3.73350603813600...|\n",
      "|   Tommy Gun|             7.0|           391653|           285917|ERANGEL| 218|            41.0|           391154|           286784| 1000.344940508023|       15.0|     0.0|[391653.0,285917....|[2.74750536512944...|\n",
      "+------------+----------------+-----------------+-----------------+-------+----+----------------+-----------------+-----------------+------------------+-----------+--------+--------------------+--------------------+\n",
      "only showing top 5 rows\n",
      "\n"
     ]
    }
   ],
   "source": [
    "kill1.show(5)"
   ]
  },
  {
   "cell_type": "code",
   "execution_count": 5,
   "metadata": {},
   "outputs": [
    {
     "name": "stdout",
     "output_type": "stream",
     "text": [
      "root\n",
      " |-- killed_by: string (nullable = true)\n",
      " |-- killer_placement: double (nullable = true)\n",
      " |-- killer_position_x: integer (nullable = true)\n",
      " |-- killer_position_y: integer (nullable = true)\n",
      " |-- map: string (nullable = true)\n",
      " |-- time: integer (nullable = true)\n",
      " |-- victim_placement: double (nullable = true)\n",
      " |-- victim_position_x: integer (nullable = true)\n",
      " |-- victim_position_y: integer (nullable = true)\n",
      " |-- DIST: double (nullable = true)\n",
      " |-- weaponindex: double (nullable = true)\n",
      " |-- mapindex: double (nullable = true)\n",
      " |-- features: vector (nullable = true)\n",
      " |-- stdfeatures: vector (nullable = true)\n",
      "\n"
     ]
    }
   ],
   "source": [
    "kill1.printSchema()"
   ]
  },
  {
   "cell_type": "code",
   "execution_count": 6,
   "metadata": {},
   "outputs": [],
   "source": [
    "import pandas as pd\n",
    "import seaborn as sns\n",
    "import numpy as np\n",
    "import matplotlib.pyplot as plt"
   ]
  },
  {
   "cell_type": "code",
   "execution_count": 7,
   "metadata": {},
   "outputs": [],
   "source": [
    "weapon = kill1.select('weaponindex','DIST').toPandas()"
   ]
  },
  {
   "cell_type": "code",
   "execution_count": 8,
   "metadata": {},
   "outputs": [
    {
     "data": {
      "text/html": [
       "<div>\n",
       "<style scoped>\n",
       "    .dataframe tbody tr th:only-of-type {\n",
       "        vertical-align: middle;\n",
       "    }\n",
       "\n",
       "    .dataframe tbody tr th {\n",
       "        vertical-align: top;\n",
       "    }\n",
       "\n",
       "    .dataframe thead th {\n",
       "        text-align: right;\n",
       "    }\n",
       "</style>\n",
       "<table border=\"1\" class=\"dataframe\">\n",
       "  <thead>\n",
       "    <tr style=\"text-align: right;\">\n",
       "      <th></th>\n",
       "      <th>weaponindex</th>\n",
       "      <th>DIST</th>\n",
       "    </tr>\n",
       "  </thead>\n",
       "  <tbody>\n",
       "    <tr>\n",
       "      <th>0</th>\n",
       "      <td>2.0</td>\n",
       "      <td>2.398066</td>\n",
       "    </tr>\n",
       "    <tr>\n",
       "      <th>1</th>\n",
       "      <td>0.0</td>\n",
       "      <td>3.746711</td>\n",
       "    </tr>\n",
       "    <tr>\n",
       "      <th>2</th>\n",
       "      <td>21.0</td>\n",
       "      <td>3.728080</td>\n",
       "    </tr>\n",
       "    <tr>\n",
       "      <th>3</th>\n",
       "      <td>0.0</td>\n",
       "      <td>3.114942</td>\n",
       "    </tr>\n",
       "    <tr>\n",
       "      <th>4</th>\n",
       "      <td>7.0</td>\n",
       "      <td>5.902688</td>\n",
       "    </tr>\n",
       "    <tr>\n",
       "      <th>...</th>\n",
       "      <td>...</td>\n",
       "      <td>...</td>\n",
       "    </tr>\n",
       "    <tr>\n",
       "      <th>58923971</th>\n",
       "      <td>12.0</td>\n",
       "      <td>2.682169</td>\n",
       "    </tr>\n",
       "    <tr>\n",
       "      <th>58923972</th>\n",
       "      <td>4.0</td>\n",
       "      <td>2.650774</td>\n",
       "    </tr>\n",
       "    <tr>\n",
       "      <th>58923973</th>\n",
       "      <td>7.0</td>\n",
       "      <td>3.756819</td>\n",
       "    </tr>\n",
       "    <tr>\n",
       "      <th>58923974</th>\n",
       "      <td>8.0</td>\n",
       "      <td>5.916535</td>\n",
       "    </tr>\n",
       "    <tr>\n",
       "      <th>58923975</th>\n",
       "      <td>1.0</td>\n",
       "      <td>3.509844</td>\n",
       "    </tr>\n",
       "  </tbody>\n",
       "</table>\n",
       "<p>58923976 rows × 2 columns</p>\n",
       "</div>"
      ],
      "text/plain": [
       "          weaponindex      DIST\n",
       "0                 2.0  2.398066\n",
       "1                 0.0  3.746711\n",
       "2                21.0  3.728080\n",
       "3                 0.0  3.114942\n",
       "4                 7.0  5.902688\n",
       "...               ...       ...\n",
       "58923971         12.0  2.682169\n",
       "58923972          4.0  2.650774\n",
       "58923973          7.0  3.756819\n",
       "58923974          8.0  5.916535\n",
       "58923975          1.0  3.509844\n",
       "\n",
       "[58923976 rows x 2 columns]"
      ]
     },
     "execution_count": 8,
     "metadata": {},
     "output_type": "execute_result"
    }
   ],
   "source": [
    "## take a log of the distance\n",
    "weapon[\"DIST\"] = np.log10(1 + weapon[\"DIST\"])\n",
    "weapon"
   ]
  },
  {
   "cell_type": "code",
   "execution_count": 9,
   "metadata": {},
   "outputs": [
    {
     "data": {
      "image/png": "[encoded data removed]",
      "text/plain": [
       "<Figure size 1440x1080 with 1 Axes>"
      ]
     },
     "metadata": {
      "needs_background": "light"
     },
     "output_type": "display_data"
    }
   ],
   "source": [
    "plt.figure(figsize=(20,15))\n",
    "sns.set_style(\"whitegrid\") \n",
    "sns.boxplot(x='weaponindex',y='DIST',data=weapon)\n",
    "plt.show()\n",
    "#Boxplot of the weapon vs distance"
   ]
  },
  {
   "cell_type": "code",
   "execution_count": 10,
   "metadata": {},
   "outputs": [],
   "source": [
    "#final_kills = kill1.select('killed_by').toPandas()"
   ]
  },
  {
   "cell_type": "code",
   "execution_count": null,
   "metadata": {},
   "outputs": [],
   "source": []
  },
  {
   "cell_type": "markdown",
   "metadata": {},
   "source": [
    "# Logistic Regression"
   ]
  },
  {
   "cell_type": "code",
   "execution_count": 11,
   "metadata": {},
   "outputs": [],
   "source": [
    "from pyspark.ml import Pipeline\n",
    "from pyspark.sql.functions import when,col\n",
    "from pyspark.ml.feature import OneHotEncoder, StringIndexer, IndexToString, VectorAssembler, StandardScaler\n",
    "from pyspark.ml.classification import LogisticRegression"
   ]
  },
  {
   "cell_type": "code",
   "execution_count": 12,
   "metadata": {},
   "outputs": [],
   "source": [
    "# feature assembler\n",
    "vectorAssembler_features = VectorAssembler(\n",
    "    inputCols=['killer_placement','killer_position_x','killer_position_y','victim_position_x','victim_position_y','DIST','time','mapindex'], \n",
    "    outputCol=\"features\",handleInvalid=\"skip\")\n",
    "label_stringIdx = StringIndexer(inputCol = \"killed_by\", outputCol = \"label\")\n",
    "#scale features\n",
    "scal = StandardScaler(inputCol='features',outputCol='stdfeatures',withStd=True, withMean=False)\n",
    "\n",
    "fit=LogisticRegression(labelCol='label', featuresCol=\"features\")"
   ]
  },
  {
   "cell_type": "code",
   "execution_count": 13,
   "metadata": {},
   "outputs": [],
   "source": [
    "df = kill1.select('killed_by','killer_placement','killer_position_x','killer_position_y','victim_position_x','victim_position_y','DIST','time','mapindex')\n",
    "train_df, test_df = df.randomSplit([0.7, 0.3])"
   ]
  },
  {
   "cell_type": "code",
   "execution_count": 14,
   "metadata": {},
   "outputs": [],
   "source": [
    "# start pipeline\n",
    "pipeline = Pipeline(stages=[vectorAssembler_features,\n",
    "                            label_stringIdx,\n",
    "                            scal,\n",
    "                            fit])"
   ]
  },
  {
   "cell_type": "code",
   "execution_count": 15,
   "metadata": {},
   "outputs": [],
   "source": [
    "# fit\n",
    "logistic_std = pipeline.fit(train_df)"
   ]
  },
  {
   "cell_type": "code",
   "execution_count": 16,
   "metadata": {},
   "outputs": [],
   "source": [
    "trainingSummary = logistic_std.stages[-1].summary"
   ]
  },
  {
   "cell_type": "code",
   "execution_count": 17,
   "metadata": {},
   "outputs": [
    {
     "data": {
      "text/plain": [
       "0.1823321992290832"
      ]
     },
     "execution_count": 17,
     "metadata": {},
     "output_type": "execute_result"
    }
   ],
   "source": [
    "## training accuracy\n",
    "trainingSummary.accuracy"
   ]
  },
  {
   "cell_type": "code",
   "execution_count": 18,
   "metadata": {},
   "outputs": [],
   "source": [
    "## test\n",
    "predictions = logistic_std.transform(test_df)"
   ]
  },
  {
   "cell_type": "code",
   "execution_count": 19,
   "metadata": {},
   "outputs": [
    {
     "data": {
      "text/plain": [
       "0.09322068356192878"
      ]
     },
     "execution_count": 19,
     "metadata": {},
     "output_type": "execute_result"
    }
   ],
   "source": [
    "from pyspark.ml.evaluation import MulticlassClassificationEvaluator\n",
    "evaluator = MulticlassClassificationEvaluator(predictionCol=\"prediction\")\n",
    "evaluator.evaluate(predictions)"
   ]
  },
  {
   "cell_type": "markdown",
   "metadata": {},
   "source": [
    "# Logistic 2"
   ]
  },
  {
   "cell_type": "code",
   "execution_count": 21,
   "metadata": {},
   "outputs": [],
   "source": [
    "# feature assembler\n",
    "vectorAssembler_features2 = VectorAssembler(\n",
    "    inputCols=['DIST','time','mapindex'], \n",
    "    outputCol=\"features\",handleInvalid=\"skip\")\n",
    "label_stringIdx = StringIndexer(inputCol = \"killed_by\", outputCol = \"label\")\n",
    "#scale features\n",
    "scal = StandardScaler(inputCol='features',outputCol='stdfeatures',withStd=True, withMean=False)\n",
    "\n",
    "fit=LogisticRegression(labelCol='label', featuresCol=\"features\")"
   ]
  },
  {
   "cell_type": "code",
   "execution_count": 22,
   "metadata": {},
   "outputs": [],
   "source": [
    "df = kill1.select('killed_by','killer_placement','killer_position_x','killer_position_y','victim_position_x','victim_position_y','DIST','time','mapindex')\n",
    "train_df, test_df = df.randomSplit([0.7, 0.3])"
   ]
  },
  {
   "cell_type": "code",
   "execution_count": 23,
   "metadata": {},
   "outputs": [],
   "source": [
    "# start pipeline\n",
    "pipeline = Pipeline(stages=[vectorAssembler_features2,\n",
    "                            label_stringIdx,\n",
    "                            scal,\n",
    "                            fit])"
   ]
  },
  {
   "cell_type": "code",
   "execution_count": 24,
   "metadata": {},
   "outputs": [],
   "source": [
    "# fit\n",
    "logistic_std2 = pipeline.fit(train_df)"
   ]
  },
  {
   "cell_type": "code",
   "execution_count": 25,
   "metadata": {},
   "outputs": [],
   "source": [
    "trainingSummary2 = logistic_std2.stages[-1].summary"
   ]
  },
  {
   "cell_type": "code",
   "execution_count": 26,
   "metadata": {},
   "outputs": [
    {
     "data": {
      "text/plain": [
       "0.17673906081006216"
      ]
     },
     "execution_count": 26,
     "metadata": {},
     "output_type": "execute_result"
    }
   ],
   "source": [
    "## training accuracy\n",
    "trainingSummary2.accuracy"
   ]
  },
  {
   "cell_type": "code",
   "execution_count": 27,
   "metadata": {},
   "outputs": [],
   "source": [
    "predictions2 = logistic_std2.transform(test_df)"
   ]
  },
  {
   "cell_type": "code",
   "execution_count": 28,
   "metadata": {},
   "outputs": [
    {
     "data": {
      "text/plain": [
       "0.09322068356192878"
      ]
     },
     "execution_count": 28,
     "metadata": {},
     "output_type": "execute_result"
    }
   ],
   "source": [
    "evaluator2 = MulticlassClassificationEvaluator(predictionCol=\"prediction\")\n",
    "evaluator2.evaluate(predictions)"
   ]
  },
  {
   "cell_type": "code",
   "execution_count": null,
   "metadata": {},
   "outputs": [],
   "source": []
  },
  {
   "cell_type": "code",
   "execution_count": null,
   "metadata": {},
   "outputs": [],
   "source": []
  },
  {
   "cell_type": "code",
   "execution_count": null,
   "metadata": {},
   "outputs": [],
   "source": []
  },
  {
   "cell_type": "code",
   "execution_count": 45,
   "metadata": {},
   "outputs": [],
   "source": [
    "spark.stop()"
   ]
  },
  {
   "cell_type": "code",
   "execution_count": null,
   "metadata": {},
   "outputs": [],
   "source": []
  }
 ],
 "metadata": {
  "kernelspec": {
   "display_name": "Python 3",
   "language": "python",
   "name": "python3"
  },
  "language_info": {
   "codemirror_mode": {
    "name": "ipython",
    "version": 3
   },
   "file_extension": ".py",
   "mimetype": "text/x-python",
   "name": "python",
   "nbconvert_exporter": "python",
   "pygments_lexer": "ipython3",
   "version": "3.7.6"
  }
 },
 "nbformat": 4,
 "nbformat_minor": 4
}
