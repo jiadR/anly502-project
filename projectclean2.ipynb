{
 "cells": [
  {
   "cell_type": "code",
   "execution_count": 1,
   "metadata": {},
   "outputs": [],
   "source": [
    "import findspark\n",
    "findspark.init()\n",
    "from pyspark.sql import SparkSession\n",
    "spark = SparkSession.builder.appName(\"sparkml\").getOrCreate()"
   ]
  },
  {
   "cell_type": "code",
   "execution_count": 3,
   "metadata": {},
   "outputs": [
    {
     "data": {
      "text/html": [
       "\n",
       "            <div>\n",
       "                <p><b>SparkSession - in-memory</b></p>\n",
       "                \n",
       "        <div>\n",
       "            <p><b>SparkContext</b></p>\n",
       "\n",
       "            <p><a href=\"http://ip-172-31-41-42.ec2.internal:4040\">Spark UI</a></p>\n",
       "\n",
       "            <dl>\n",
       "              <dt>Version</dt>\n",
       "                <dd><code>v2.4.4</code></dd>\n",
       "              <dt>Master</dt>\n",
       "                <dd><code>yarn</code></dd>\n",
       "              <dt>AppName</dt>\n",
       "                <dd><code>sparkml</code></dd>\n",
       "            </dl>\n",
       "        </div>\n",
       "        \n",
       "            </div>\n",
       "        "
      ],
      "text/plain": [
       "<pyspark.sql.session.SparkSession at 0x7f67a4587410>"
      ]
     },
     "execution_count": 3,
     "metadata": {},
     "output_type": "execute_result"
    }
   ],
   "source": [
    "spark"
   ]
  },
  {
   "cell_type": "code",
   "execution_count": 4,
   "metadata": {},
   "outputs": [],
   "source": [
    "agg1 = spark.read.parquet('s3://502pubg/clean/aggeragate1.parquet')"
   ]
  },
  {
   "cell_type": "code",
   "execution_count": 12,
   "metadata": {},
   "outputs": [],
   "source": [
    "agg0 = spark.read.parquet('s3://502pubg/clean/aggeragate0.parquet')"
   ]
  },
  {
   "cell_type": "code",
   "execution_count": 13,
   "metadata": {},
   "outputs": [
    {
     "name": "stdout",
     "output_type": "stream",
     "text": [
      "root\n",
      " |-- game_size: integer (nullable = true)\n",
      " |-- match_mode: string (nullable = true)\n",
      " |-- party_size: integer (nullable = true)\n",
      " |-- player_assists: integer (nullable = true)\n",
      " |-- player_dbno: integer (nullable = true)\n",
      " |-- player_dist_ride: integer (nullable = true)\n",
      " |-- player_dist_walk: integer (nullable = true)\n",
      " |-- player_dmg: integer (nullable = true)\n",
      " |-- player_kills: integer (nullable = true)\n",
      " |-- player_survive_time: integer (nullable = true)\n",
      " |-- team_placement: integer (nullable = true)\n",
      "\n"
     ]
    }
   ],
   "source": [
    "agg0.printSchema()"
   ]
  },
  {
   "cell_type": "code",
   "execution_count": 5,
   "metadata": {},
   "outputs": [
    {
     "name": "stdout",
     "output_type": "stream",
     "text": [
      "root\n",
      " |-- game_size: integer (nullable = true)\n",
      " |-- match_mode: string (nullable = true)\n",
      " |-- party_size: integer (nullable = true)\n",
      " |-- player_assists: integer (nullable = true)\n",
      " |-- player_dbno: integer (nullable = true)\n",
      " |-- player_dist_ride: integer (nullable = true)\n",
      " |-- player_dist_walk: integer (nullable = true)\n",
      " |-- player_dmg: integer (nullable = true)\n",
      " |-- player_kills: integer (nullable = true)\n",
      " |-- player_survive_time: integer (nullable = true)\n",
      " |-- team_placement: integer (nullable = true)\n",
      " |-- matchmode_index: double (nullable = true)\n",
      " |-- label: double (nullable = true)\n",
      "\n"
     ]
    }
   ],
   "source": [
    "agg1.printSchema()"
   ]
  },
  {
   "cell_type": "code",
   "execution_count": 6,
   "metadata": {},
   "outputs": [
    {
     "name": "stdout",
     "output_type": "stream",
     "text": [
      "+---------+----------+----------+--------------+-----------+----------------+----------------+----------+------------+-------------------+--------------+---------------+-----+\n",
      "|game_size|match_mode|party_size|player_assists|player_dbno|player_dist_ride|player_dist_walk|player_dmg|player_kills|player_survive_time|team_placement|matchmode_index|label|\n",
      "+---------+----------+----------+--------------+-----------+----------------+----------------+----------+------------+-------------------+--------------+---------------+-----+\n",
      "|       45|       tpp|         2|             0|          1|               0|            1114|        80|           2|                905|            22|            0.0|  8.0|\n",
      "|       45|       tpp|         2|             0|          2|             690|            2050|       161|           1|               1095|            20|            0.0| 10.0|\n",
      "|       45|       tpp|         2|             0|          0|            2111|            1342|       100|           0|                616|            27|            0.0| 26.0|\n",
      "|       45|       tpp|         2|             0|          0|            1978|            1335|        25|           0|                616|            27|            0.0| 26.0|\n",
      "|       45|       tpp|         2|             0|          2|             402|            1169|       334|           2|               1333|            15|            0.0| 23.0|\n",
      "|       45|       tpp|         2|             0|          1|            3083|            1982|       113|           2|                849|            23|            0.0| 11.0|\n",
      "|       45|       tpp|         2|             1|          1|            3088|            1847|       132|           1|                849|            23|            0.0| 11.0|\n",
      "|       45|       tpp|         2|             0|          1|               0|             217|       122|           1|                213|            37|            0.0| 36.0|\n",
      "|       45|       tpp|         2|             1|          1|               0|             402|        97|           1|                264|            37|            0.0| 36.0|\n",
      "|       45|       tpp|         2|             0|          2|               0|             111|       370|           2|                191|            38|            0.0| 37.0|\n",
      "|       45|       tpp|         2|             0|          0|               0|             128|         0|           0|                230|            38|            0.0| 37.0|\n",
      "|       48|       tpp|         2|             0|          0|            1282|            2106|        68|           0|                948|            23|            0.0| 11.0|\n",
      "|       48|       tpp|         2|             0|          0|               0|               0|         0|           0|                885|            23|            0.0| 11.0|\n",
      "|       48|       tpp|         2|             0|          0|               0|               0|         0|           0|                127|            46|            0.0| 45.0|\n",
      "|       48|       tpp|         2|             0|          0|               0|             136|         0|           0|                146|            36|            0.0| 35.0|\n",
      "|       48|       tpp|         2|             0|          1|               0|             279|       140|           0|                207|            36|            0.0| 35.0|\n",
      "|       48|       tpp|         2|             0|          0|               0|              19|         0|           0|                105|            35|            0.0| 34.0|\n",
      "|       48|       tpp|         2|             0|          1|               0|             256|       100|           1|                279|            35|            0.0| 34.0|\n",
      "|       48|       tpp|         2|             0|          1|               0|             168|       299|           2|                310|            33|            0.0| 32.0|\n",
      "|       48|       tpp|         2|             0|          0|               0|             394|         0|           0|                333|            33|            0.0| 32.0|\n",
      "+---------+----------+----------+--------------+-----------+----------------+----------------+----------+------------+-------------------+--------------+---------------+-----+\n",
      "only showing top 20 rows\n",
      "\n"
     ]
    }
   ],
   "source": [
    "agg1.show()"
   ]
  },
  {
   "cell_type": "code",
   "execution_count": 7,
   "metadata": {},
   "outputs": [],
   "source": [
    "from pyspark.ml.feature import OneHotEncoder, StringIndexer, IndexToString, VectorAssembler, StandardScaler"
   ]
  },
  {
   "cell_type": "code",
   "execution_count": 16,
   "metadata": {},
   "outputs": [],
   "source": [
    "indexer1 = StringIndexer(inputCol='game_size', outputCol=\"gamesize_index\")\n",
    "indexer2 = StringIndexer(inputCol='party_size', outputCol=\"partysize_index\")"
   ]
  },
  {
   "cell_type": "code",
   "execution_count": 17,
   "metadata": {},
   "outputs": [],
   "source": [
    "agg2 = indexer2.fit(agg2).transform(agg2)"
   ]
  },
  {
   "cell_type": "code",
   "execution_count": 31,
   "metadata": {},
   "outputs": [
    {
     "name": "stdout",
     "output_type": "stream",
     "text": [
      "+---------+----------+----------+--------------+-----------+----------------+----------------+----------+------------+-------------------+--------------+---------------+-----+--------------+---------------+\n",
      "|game_size|match_mode|party_size|player_assists|player_dbno|player_dist_ride|player_dist_walk|player_dmg|player_kills|player_survive_time|team_placement|matchmode_index|label|gamesize_index|partysize_index|\n",
      "+---------+----------+----------+--------------+-----------+----------------+----------------+----------+------------+-------------------+--------------+---------------+-----+--------------+---------------+\n",
      "|       45|       tpp|         2|             0|          1|               0|            1114|        80|           2|                905|            22|            0.0|  8.0|          18.0|            1.0|\n",
      "|       45|       tpp|         2|             0|          2|             690|            2050|       161|           1|               1095|            20|            0.0| 10.0|          18.0|            1.0|\n",
      "|       45|       tpp|         2|             0|          0|            2111|            1342|       100|           0|                616|            27|            0.0| 26.0|          18.0|            1.0|\n",
      "|       45|       tpp|         2|             0|          0|            1978|            1335|        25|           0|                616|            27|            0.0| 26.0|          18.0|            1.0|\n",
      "|       45|       tpp|         2|             0|          2|             402|            1169|       334|           2|               1333|            15|            0.0| 23.0|          18.0|            1.0|\n",
      "|       45|       tpp|         2|             0|          1|            3083|            1982|       113|           2|                849|            23|            0.0| 11.0|          18.0|            1.0|\n",
      "|       45|       tpp|         2|             1|          1|            3088|            1847|       132|           1|                849|            23|            0.0| 11.0|          18.0|            1.0|\n",
      "|       45|       tpp|         2|             0|          1|               0|             217|       122|           1|                213|            37|            0.0| 36.0|          18.0|            1.0|\n",
      "|       45|       tpp|         2|             1|          1|               0|             402|        97|           1|                264|            37|            0.0| 36.0|          18.0|            1.0|\n",
      "|       45|       tpp|         2|             0|          2|               0|             111|       370|           2|                191|            38|            0.0| 37.0|          18.0|            1.0|\n",
      "|       45|       tpp|         2|             0|          0|               0|             128|         0|           0|                230|            38|            0.0| 37.0|          18.0|            1.0|\n",
      "|       48|       tpp|         2|             0|          0|            1282|            2106|        68|           0|                948|            23|            0.0| 11.0|           5.0|            1.0|\n",
      "|       48|       tpp|         2|             0|          0|               0|               0|         0|           0|                885|            23|            0.0| 11.0|           5.0|            1.0|\n",
      "|       48|       tpp|         2|             0|          0|               0|               0|         0|           0|                127|            46|            0.0| 45.0|           5.0|            1.0|\n",
      "|       48|       tpp|         2|             0|          0|               0|             136|         0|           0|                146|            36|            0.0| 35.0|           5.0|            1.0|\n",
      "|       48|       tpp|         2|             0|          1|               0|             279|       140|           0|                207|            36|            0.0| 35.0|           5.0|            1.0|\n",
      "|       48|       tpp|         2|             0|          0|               0|              19|         0|           0|                105|            35|            0.0| 34.0|           5.0|            1.0|\n",
      "|       48|       tpp|         2|             0|          1|               0|             256|       100|           1|                279|            35|            0.0| 34.0|           5.0|            1.0|\n",
      "|       48|       tpp|         2|             0|          1|               0|             168|       299|           2|                310|            33|            0.0| 32.0|           5.0|            1.0|\n",
      "|       48|       tpp|         2|             0|          0|               0|             394|         0|           0|                333|            33|            0.0| 32.0|           5.0|            1.0|\n",
      "+---------+----------+----------+--------------+-----------+----------------+----------------+----------+------------+-------------------+--------------+---------------+-----+--------------+---------------+\n",
      "only showing top 20 rows\n",
      "\n"
     ]
    }
   ],
   "source": [
    "agg2.show()"
   ]
  },
  {
   "cell_type": "code",
   "execution_count": 63,
   "metadata": {},
   "outputs": [],
   "source": [
    "vectorAssembler_features = VectorAssembler(\n",
    "    inputCols=['player_assists','player_dbno','player_dist_ride','player_dist_walk','player_dmg','player_kills','player_survive_time','matchmode_index',\"gamesize_index\",\"partysize_index\"], \n",
    "    outputCol=\"features\",handleInvalid=\"skip\")"
   ]
  },
  {
   "cell_type": "code",
   "execution_count": 64,
   "metadata": {},
   "outputs": [],
   "source": [
    "agg3 = vectorAssembler_features.transform(agg2)"
   ]
  },
  {
   "cell_type": "code",
   "execution_count": 65,
   "metadata": {},
   "outputs": [
    {
     "data": {
      "text/plain": [
       "[Row(features=DenseVector([0.0, 1.0, 0.0, 1114.0, 80.0, 2.0, 905.0, 0.0, 18.0, 1.0])),\n",
       " Row(features=DenseVector([0.0, 2.0, 690.0, 2050.0, 161.0, 1.0, 1095.0, 0.0, 18.0, 1.0])),\n",
       " Row(features=DenseVector([0.0, 0.0, 2111.0, 1342.0, 100.0, 0.0, 616.0, 0.0, 18.0, 1.0])),\n",
       " Row(features=DenseVector([0.0, 0.0, 1978.0, 1335.0, 25.0, 0.0, 616.0, 0.0, 18.0, 1.0])),\n",
       " Row(features=DenseVector([0.0, 2.0, 402.0, 1169.0, 334.0, 2.0, 1333.0, 0.0, 18.0, 1.0])),\n",
       " Row(features=DenseVector([0.0, 1.0, 3083.0, 1982.0, 113.0, 2.0, 849.0, 0.0, 18.0, 1.0])),\n",
       " Row(features=DenseVector([1.0, 1.0, 3088.0, 1847.0, 132.0, 1.0, 849.0, 0.0, 18.0, 1.0])),\n",
       " Row(features=DenseVector([0.0, 1.0, 0.0, 217.0, 122.0, 1.0, 213.0, 0.0, 18.0, 1.0])),\n",
       " Row(features=DenseVector([1.0, 1.0, 0.0, 402.0, 97.0, 1.0, 264.0, 0.0, 18.0, 1.0])),\n",
       " Row(features=DenseVector([0.0, 2.0, 0.0, 111.0, 370.0, 2.0, 191.0, 0.0, 18.0, 1.0])),\n",
       " Row(features=SparseVector(10, {3: 128.0, 6: 230.0, 8: 18.0, 9: 1.0})),\n",
       " Row(features=DenseVector([0.0, 0.0, 1282.0, 2106.0, 68.0, 0.0, 948.0, 0.0, 5.0, 1.0])),\n",
       " Row(features=SparseVector(10, {6: 885.0, 8: 5.0, 9: 1.0})),\n",
       " Row(features=SparseVector(10, {6: 127.0, 8: 5.0, 9: 1.0})),\n",
       " Row(features=SparseVector(10, {3: 136.0, 6: 146.0, 8: 5.0, 9: 1.0}))]"
      ]
     },
     "execution_count": 65,
     "metadata": {},
     "output_type": "execute_result"
    }
   ],
   "source": [
    "agg3.select('features').take(15)"
   ]
  },
  {
   "cell_type": "code",
   "execution_count": 66,
   "metadata": {},
   "outputs": [],
   "source": [
    "scal = StandardScaler(inputCol='features',outputCol='stdfeatures',withStd=True, withMean=False)"
   ]
  },
  {
   "cell_type": "code",
   "execution_count": 67,
   "metadata": {},
   "outputs": [],
   "source": [
    "agg4 = scal.fit(agg3).transform(agg3)"
   ]
  },
  {
   "cell_type": "code",
   "execution_count": 68,
   "metadata": {},
   "outputs": [
    {
     "name": "stdout",
     "output_type": "stream",
     "text": [
      "root\n",
      " |-- game_size: integer (nullable = true)\n",
      " |-- match_mode: string (nullable = true)\n",
      " |-- party_size: integer (nullable = true)\n",
      " |-- player_assists: integer (nullable = true)\n",
      " |-- player_dbno: integer (nullable = true)\n",
      " |-- player_dist_ride: integer (nullable = true)\n",
      " |-- player_dist_walk: integer (nullable = true)\n",
      " |-- player_dmg: integer (nullable = true)\n",
      " |-- player_kills: integer (nullable = true)\n",
      " |-- player_survive_time: integer (nullable = true)\n",
      " |-- team_placement: integer (nullable = true)\n",
      " |-- matchmode_index: double (nullable = true)\n",
      " |-- label: double (nullable = true)\n",
      " |-- gamesize_index: double (nullable = false)\n",
      " |-- partysize_index: double (nullable = false)\n",
      " |-- features: vector (nullable = true)\n",
      " |-- stdfeatures: vector (nullable = true)\n",
      "\n"
     ]
    }
   ],
   "source": [
    "agg4.printSchema()"
   ]
  },
  {
   "cell_type": "code",
   "execution_count": 69,
   "metadata": {},
   "outputs": [
    {
     "data": {
      "text/plain": [
       "[Row(stdfeatures=DenseVector([0.0, 0.8933, 0.0, 0.2645, 0.472, 1.2867, 0.0005, 0.0, 1.6045, 1.28])),\n",
       " Row(stdfeatures=DenseVector([0.0, 1.7865, 0.3451, 0.4868, 0.9499, 0.6434, 0.0006, 0.0, 1.6045, 1.28])),\n",
       " Row(stdfeatures=DenseVector([0.0, 0.0, 1.0557, 0.3187, 0.59, 0.0, 0.0004, 0.0, 1.6045, 1.28])),\n",
       " Row(stdfeatures=DenseVector([0.0, 0.0, 0.9892, 0.317, 0.1475, 0.0, 0.0004, 0.0, 1.6045, 1.28])),\n",
       " Row(stdfeatures=DenseVector([0.0, 1.7865, 0.201, 0.2776, 1.9706, 1.2867, 0.0008, 0.0, 1.6045, 1.28])),\n",
       " Row(stdfeatures=DenseVector([0.0, 0.8933, 1.5418, 0.4707, 0.6667, 1.2867, 0.0005, 0.0, 1.6045, 1.28])),\n",
       " Row(stdfeatures=DenseVector([1.7371, 0.8933, 1.5443, 0.4386, 0.7788, 0.6434, 0.0005, 0.0, 1.6045, 1.28])),\n",
       " Row(stdfeatures=DenseVector([0.0, 0.8933, 0.0, 0.0515, 0.7198, 0.6434, 0.0001, 0.0, 1.6045, 1.28])),\n",
       " Row(stdfeatures=DenseVector([1.7371, 0.8933, 0.0, 0.0955, 0.5723, 0.6434, 0.0002, 0.0, 1.6045, 1.28])),\n",
       " Row(stdfeatures=DenseVector([0.0, 1.7865, 0.0, 0.0264, 2.183, 1.2867, 0.0001, 0.0, 1.6045, 1.28])),\n",
       " Row(stdfeatures=SparseVector(10, {3: 0.0304, 6: 0.0001, 8: 1.6045, 9: 1.28})),\n",
       " Row(stdfeatures=DenseVector([0.0, 0.0, 0.6411, 0.5001, 0.4012, 0.0, 0.0005, 0.0, 0.4457, 1.28])),\n",
       " Row(stdfeatures=SparseVector(10, {6: 0.0005, 8: 0.4457, 9: 1.28})),\n",
       " Row(stdfeatures=SparseVector(10, {6: 0.0001, 8: 0.4457, 9: 1.28})),\n",
       " Row(stdfeatures=SparseVector(10, {3: 0.0323, 6: 0.0001, 8: 0.4457, 9: 1.28}))]"
      ]
     },
     "execution_count": 69,
     "metadata": {},
     "output_type": "execute_result"
    }
   ],
   "source": [
    "agg4.select('stdfeatures').take(15)"
   ]
  },
  {
   "cell_type": "code",
   "execution_count": 70,
   "metadata": {},
   "outputs": [
    {
     "name": "stdout",
     "output_type": "stream",
     "text": [
      "root\n",
      " |-- game_size: integer (nullable = true)\n",
      " |-- match_mode: string (nullable = true)\n",
      " |-- party_size: integer (nullable = true)\n",
      " |-- player_assists: integer (nullable = true)\n",
      " |-- player_dbno: integer (nullable = true)\n",
      " |-- player_dist_ride: integer (nullable = true)\n",
      " |-- player_dist_walk: integer (nullable = true)\n",
      " |-- player_dmg: integer (nullable = true)\n",
      " |-- player_kills: integer (nullable = true)\n",
      " |-- player_survive_time: integer (nullable = true)\n",
      " |-- team_placement: integer (nullable = true)\n",
      " |-- matchmode_index: double (nullable = true)\n",
      " |-- label: double (nullable = true)\n",
      " |-- gamesize_index: double (nullable = false)\n",
      " |-- partysize_index: double (nullable = false)\n",
      " |-- features: vector (nullable = true)\n",
      " |-- stdfeatures: vector (nullable = true)\n",
      "\n"
     ]
    }
   ],
   "source": [
    "agg4.printSchema()"
   ]
  },
  {
   "cell_type": "code",
   "execution_count": 71,
   "metadata": {},
   "outputs": [],
   "source": [
    "agg4.write.parquet('s3://502pubg/clean/aggeragate2.parquet')"
   ]
  },
  {
   "cell_type": "code",
   "execution_count": 73,
   "metadata": {},
   "outputs": [],
   "source": [
    "kill = spark.read.parquet('s3://502pubg/clean/kill0.parquet')"
   ]
  },
  {
   "cell_type": "code",
   "execution_count": 74,
   "metadata": {},
   "outputs": [
    {
     "name": "stdout",
     "output_type": "stream",
     "text": [
      "root\n",
      " |-- killed_by: string (nullable = true)\n",
      " |-- killer_placement: double (nullable = true)\n",
      " |-- killer_position_x: integer (nullable = true)\n",
      " |-- killer_position_y: integer (nullable = true)\n",
      " |-- map: string (nullable = true)\n",
      " |-- time: integer (nullable = true)\n",
      " |-- victim_placement: double (nullable = true)\n",
      " |-- victim_position_x: integer (nullable = true)\n",
      " |-- victim_position_y: integer (nullable = true)\n",
      "\n"
     ]
    }
   ],
   "source": [
    "kill.printSchema()"
   ]
  },
  {
   "cell_type": "code",
   "execution_count": 75,
   "metadata": {},
   "outputs": [
    {
     "name": "stdout",
     "output_type": "stream",
     "text": [
      "+---------+----------------+-----------------+-----------------+-------+----+----------------+-----------------+-----------------+\n",
      "|killed_by|killer_placement|killer_position_x|killer_position_y|    map|time|victim_placement|victim_position_x|victim_position_y|\n",
      "+---------+----------------+-----------------+-----------------+-------+----+----------------+-----------------+-----------------+\n",
      "| Bluezone|            null|             null|             null|MIRAMAR| 821|            58.0|                0|                0|\n",
      "|      AKM|            43.0|           266222|           388673|MIRAMAR| 623|            44.0|           271032|           392712|\n",
      "|      AKM|             1.0|           471619|           555094|MIRAMAR|1727|             8.0|           465798|           551481|\n",
      "| Bluezone|            null|             null|             null|MIRAMAR| 863|            56.0|                0|                0|\n",
      "|     S686|            63.0|           371367|           420929|MIRAMAR| 186|            65.0|           370874|           420951|\n",
      "|   Kar98k|             6.0|           367942|           355570|MIRAMAR| 759|            37.0|           371189|           366381|\n",
      "|     M416|            47.0|           449795|           517387|MIRAMAR| 397|            52.0|           450831|           517825|\n",
      "| Bluezone|            null|             null|             null|MIRAMAR|1135|            47.0|                0|                0|\n",
      "|  Mini 14|            36.0|           347442|           339956|MIRAMAR| 729|            39.0|           351225|           351998|\n",
      "|Micro UZI|             2.0|           389660|           543531|MIRAMAR| 463|            51.0|           388304|           544670|\n",
      "|     S12K|            65.0|           368365|           424416|MIRAMAR| 107|            80.0|           368076|           424298|\n",
      "|  Falling|            null|             null|             null|MIRAMAR| 785|            34.0|           424370|           220814|\n",
      "|   SCAR-L|            42.0|           367632|           266123|MIRAMAR| 143|            73.0|           367717|           267605|\n",
      "|     UMP9|            10.0|           491746|           495262|MIRAMAR|1419|            14.0|           492150|           495237|\n",
      "|     UMP9|            49.0|           318436|           361067|MIRAMAR| 168|            67.0|           320416|           360827|\n",
      "|      P92|            36.0|           364902|           264166|MIRAMAR| 241|            58.0|           365092|           263514|\n",
      "|  Mini 14|            18.0|           268890|           401654|MIRAMAR| 665|            43.0|           270731|           396515|\n",
      "| Bluezone|            null|             null|             null|MIRAMAR|1957|             4.0|           470349|           549961|\n",
      "|   SCAR-L|            24.0|           493543|           364216|MIRAMAR| 683|            42.0|           500042|           367763|\n",
      "|    Groza|             2.0|           465185|           550436|MIRAMAR|1974|             3.0|           465601|           550496|\n",
      "+---------+----------------+-----------------+-----------------+-------+----+----------------+-----------------+-----------------+\n",
      "only showing top 20 rows\n",
      "\n"
     ]
    }
   ],
   "source": [
    "kill.show()"
   ]
  },
  {
   "cell_type": "code",
   "execution_count": 77,
   "metadata": {},
   "outputs": [],
   "source": [
    "kill0 = kill.na.drop()"
   ]
  },
  {
   "cell_type": "code",
   "execution_count": 78,
   "metadata": {},
   "outputs": [
    {
     "name": "stdout",
     "output_type": "stream",
     "text": [
      "+---------+----------------+-----------------+-----------------+-------+----+----------------+-----------------+-----------------+\n",
      "|killed_by|killer_placement|killer_position_x|killer_position_y|    map|time|victim_placement|victim_position_x|victim_position_y|\n",
      "+---------+----------------+-----------------+-----------------+-------+----+----------------+-----------------+-----------------+\n",
      "|      AKM|            43.0|           266222|           388673|MIRAMAR| 623|            44.0|           271032|           392712|\n",
      "|      AKM|             1.0|           471619|           555094|MIRAMAR|1727|             8.0|           465798|           551481|\n",
      "|     S686|            63.0|           371367|           420929|MIRAMAR| 186|            65.0|           370874|           420951|\n",
      "|   Kar98k|             6.0|           367942|           355570|MIRAMAR| 759|            37.0|           371189|           366381|\n",
      "|     M416|            47.0|           449795|           517387|MIRAMAR| 397|            52.0|           450831|           517825|\n",
      "|  Mini 14|            36.0|           347442|           339956|MIRAMAR| 729|            39.0|           351225|           351998|\n",
      "|Micro UZI|             2.0|           389660|           543531|MIRAMAR| 463|            51.0|           388304|           544670|\n",
      "|     S12K|            65.0|           368365|           424416|MIRAMAR| 107|            80.0|           368076|           424298|\n",
      "|   SCAR-L|            42.0|           367632|           266123|MIRAMAR| 143|            73.0|           367717|           267605|\n",
      "|     UMP9|            10.0|           491746|           495262|MIRAMAR|1419|            14.0|           492150|           495237|\n",
      "|     UMP9|            49.0|           318436|           361067|MIRAMAR| 168|            67.0|           320416|           360827|\n",
      "|      P92|            36.0|           364902|           264166|MIRAMAR| 241|            58.0|           365092|           263514|\n",
      "|  Mini 14|            18.0|           268890|           401654|MIRAMAR| 665|            43.0|           270731|           396515|\n",
      "|   SCAR-L|            24.0|           493543|           364216|MIRAMAR| 683|            42.0|           500042|           367763|\n",
      "|    Groza|             2.0|           465185|           550436|MIRAMAR|1974|             3.0|           465601|           550496|\n",
      "|     M416|             3.0|           514380|           322698|MIRAMAR| 723|            26.0|           506677|           323442|\n",
      "|      M24|             4.0|           449629|           552309|MIRAMAR|1648|             8.0|           441234|           531713|\n",
      "|  Grenade|             5.0|           492380|           545198|MIRAMAR|1291|            13.0|           493997|           546775|\n",
      "|      M24|             8.0|           439292|           532331|MIRAMAR|1368|            14.0|           433190|           529335|\n",
      "|Tommy Gun|             6.0|           641021|           270031|MIRAMAR| 436|            26.0|           641121|           269856|\n",
      "+---------+----------------+-----------------+-----------------+-------+----+----------------+-----------------+-----------------+\n",
      "only showing top 20 rows\n",
      "\n"
     ]
    }
   ],
   "source": [
    "kill0.show()"
   ]
  },
  {
   "cell_type": "code",
   "execution_count": 79,
   "metadata": {},
   "outputs": [],
   "source": [
    "spark.conf.set(\"spark.sql.crossJoin.enabled\", \"true\")"
   ]
  },
  {
   "cell_type": "code",
   "execution_count": 80,
   "metadata": {},
   "outputs": [],
   "source": [
    "kill0.createOrReplaceTempView('kill0')"
   ]
  },
  {
   "cell_type": "code",
   "execution_count": 83,
   "metadata": {},
   "outputs": [],
   "source": [
    "x1=spark.sql('select Power((Power((killer_position_x-victim_position_x),2)+Power((killer_position_y-victim_position_y),2)),0.5) AS DIST from kill0').cache()"
   ]
  },
  {
   "cell_type": "code",
   "execution_count": 102,
   "metadata": {},
   "outputs": [],
   "source": [
    "x1=x1.withColumn('id',monotonically_increasing_id())"
   ]
  },
  {
   "cell_type": "code",
   "execution_count": 104,
   "metadata": {},
   "outputs": [],
   "source": [
    "kill0 = kill0.withColumn('id',monotonically_increasing_id())"
   ]
  },
  {
   "cell_type": "code",
   "execution_count": 99,
   "metadata": {},
   "outputs": [],
   "source": [
    "from pyspark.sql.functions import col,monotonically_increasing_id"
   ]
  },
  {
   "cell_type": "code",
   "execution_count": 106,
   "metadata": {},
   "outputs": [],
   "source": [
    "kill1 = kill0.join(x1,kill0.id==x1.id,'inner')"
   ]
  },
  {
   "cell_type": "code",
   "execution_count": 107,
   "metadata": {},
   "outputs": [
    {
     "name": "stdout",
     "output_type": "stream",
     "text": [
      "root\n",
      " |-- killed_by: string (nullable = true)\n",
      " |-- killer_placement: double (nullable = true)\n",
      " |-- killer_position_x: integer (nullable = true)\n",
      " |-- killer_position_y: integer (nullable = true)\n",
      " |-- map: string (nullable = true)\n",
      " |-- time: integer (nullable = true)\n",
      " |-- victim_placement: double (nullable = true)\n",
      " |-- victim_position_x: integer (nullable = true)\n",
      " |-- victim_position_y: integer (nullable = true)\n",
      " |-- id: long (nullable = false)\n",
      " |-- DIST: double (nullable = true)\n",
      " |-- id: long (nullable = false)\n",
      "\n"
     ]
    }
   ],
   "source": [
    "kill1.printSchema()"
   ]
  },
  {
   "cell_type": "code",
   "execution_count": 111,
   "metadata": {},
   "outputs": [],
   "source": [
    "kill1 = kill1.drop('id')"
   ]
  },
  {
   "cell_type": "code",
   "execution_count": 112,
   "metadata": {},
   "outputs": [
    {
     "name": "stdout",
     "output_type": "stream",
     "text": [
      "+-------------------+----------------+-----------------+-----------------+-------+----+----------------+-----------------+-----------------+------------------+\n",
      "|          killed_by|killer_placement|killer_position_x|killer_position_y|    map|time|victim_placement|victim_position_x|victim_position_y|              DIST|\n",
      "+-------------------+----------------+-----------------+-----------------+-------+----+----------------+-----------------+-----------------+------------------+\n",
      "|               M416|             3.0|           458250|           524673|MIRAMAR|1473|            12.0|           456787|           531151|6641.1484699560815|\n",
      "|death.WeapSawnoff_C|            23.0|           520625|           362615|MIRAMAR| 480|             2.0|           520702|           362534|111.75866856758807|\n",
      "|               M416|             5.0|           484673|           147615|ERANGEL|1565|             6.0|           484817|           148669|1063.7913329220162|\n",
      "|               UMP9|            10.0|           437510|           450901|ERANGEL|1116|            14.0|           439642|           448406|3281.8362238234863|\n",
      "|               M416|             2.0|           375894|           326274|ERANGEL|1817|             3.0|           374357|           327653|2064.9479412324176|\n",
      "|               M416|            21.0|           366717|           388777|ERANGEL| 640|            46.0|           366708|           389898|1121.0361278745659|\n",
      "|          Micro UZI|            17.0|           344262|           557078|ERANGEL| 444|             5.0|           344438|           557495| 452.6201497945048|\n",
      "|              M16A4|            19.0|           199303|           284143|ERANGEL| 133|            10.0|           198816|           284325| 519.8971052044818|\n",
      "|            Mini 14|             2.0|           364433|           403834|ERANGEL| 280|            20.0|           365992|           405063|1985.1755589871643|\n",
      "|              M16A4|            28.0|           378229|           284983|MIRAMAR| 265|            21.0|           378215|           285268|285.34365246137855|\n",
      "|       Down and Out|             4.0|           312473|           390077|MIRAMAR|1333|            10.0|           295084|           386051|17848.977477715634|\n",
      "|       Down and Out|            39.0|           211468|           366015|ERANGEL| 208|            43.0|           212706|           366360|1285.1727510338833|\n",
      "|       Down and Out|             1.0|           367597|           586110|ERANGEL|1361|            10.0|           361564|           579267| 9122.704533196282|\n",
      "|       Down and Out|             2.0|           177854|           625588|ERANGEL| 159|            25.0|           177500|           625916|482.59714048054616|\n",
      "|              M16A4|             3.0|           155322|           393521|ERANGEL|1612|             9.0|           153705|           392947| 1715.856928767664|\n",
      "|               M416|             1.0|           244586|           405103|MIRAMAR|1664|             6.0|           238078|           396553|10745.071614465862|\n",
      "|                AKM|            17.0|           145031|           337082|ERANGEL| 278|            64.0|           152979|           332676| 9087.548624354094|\n",
      "|               S12K|            42.0|           564885|           383976|ERANGEL| 105|            90.0|           565030|           383993| 145.9931505242626|\n",
      "|       Down and Out|             1.0|           557994|           177374|ERANGEL|1726|             5.0|           555663|           179152| 2931.696607768273|\n",
      "|               UMP9|            30.0|           443080|           348731|ERANGEL| 489|            55.0|           443857|           347156|1756.2329002726262|\n",
      "+-------------------+----------------+-----------------+-----------------+-------+----+----------------+-----------------+-----------------+------------------+\n",
      "only showing top 20 rows\n",
      "\n"
     ]
    }
   ],
   "source": [
    "kill1.show()"
   ]
  },
  {
   "cell_type": "code",
   "execution_count": 114,
   "metadata": {},
   "outputs": [],
   "source": [
    "ind1 = StringIndexer(inputCol='killed_by',outputCol='weaponindex')\n",
    "ind2 = StringIndexer(inputCol='map',outputCol='mapindex')"
   ]
  },
  {
   "cell_type": "code",
   "execution_count": 115,
   "metadata": {},
   "outputs": [],
   "source": [
    "kill2 = ind1.fit(kill1).transform(kill1)\n",
    "kill2 = ind2.fit(kill2).transform(kill2)"
   ]
  },
  {
   "cell_type": "code",
   "execution_count": 116,
   "metadata": {},
   "outputs": [],
   "source": [
    "vectorAssembler_features = VectorAssembler(\n",
    "    inputCols=['killer_position_x','killer_position_y','victim_position_x','victim_position_y','DIST','weaponindex','mapindex'], \n",
    "    outputCol=\"features\",handleInvalid=\"skip\")"
   ]
  },
  {
   "cell_type": "code",
   "execution_count": 117,
   "metadata": {},
   "outputs": [],
   "source": [
    "kill3 = vectorAssembler_features.transform(kill2)"
   ]
  },
  {
   "cell_type": "code",
   "execution_count": 118,
   "metadata": {},
   "outputs": [
    {
     "name": "stdout",
     "output_type": "stream",
     "text": [
      "+-------------------+----------------+-----------------+-----------------+-------+----+----------------+-----------------+-----------------+------------------+-----------+--------+--------------------+\n",
      "|          killed_by|killer_placement|killer_position_x|killer_position_y|    map|time|victim_placement|victim_position_x|victim_position_y|              DIST|weaponindex|mapindex|            features|\n",
      "+-------------------+----------------+-----------------+-----------------+-------+----+----------------+-----------------+-----------------+------------------+-----------+--------+--------------------+\n",
      "|               M416|             3.0|           458250|           524673|MIRAMAR|1473|            12.0|           456787|           531151|6641.1484699560815|        1.0|     1.0|[458250.0,524673....|\n",
      "|death.WeapSawnoff_C|            23.0|           520625|           362615|MIRAMAR| 480|             2.0|           520702|           362534|111.75866856758807|       36.0|     1.0|[520625.0,362615....|\n",
      "|               M416|             5.0|           484673|           147615|ERANGEL|1565|             6.0|           484817|           148669|1063.7913329220162|        1.0|     0.0|[484673.0,147615....|\n",
      "|               UMP9|            10.0|           437510|           450901|ERANGEL|1116|            14.0|           439642|           448406|3281.8362238234863|        5.0|     0.0|[437510.0,450901....|\n",
      "|               M416|             2.0|           375894|           326274|ERANGEL|1817|             3.0|           374357|           327653|2064.9479412324176|        1.0|     0.0|[375894.0,326274....|\n",
      "|               M416|            21.0|           366717|           388777|ERANGEL| 640|            46.0|           366708|           389898|1121.0361278745659|        1.0|     0.0|[366717.0,388777....|\n",
      "|          Micro UZI|            17.0|           344262|           557078|ERANGEL| 444|             5.0|           344438|           557495| 452.6201497945048|       13.0|     0.0|[344262.0,557078....|\n",
      "|              M16A4|            19.0|           199303|           284143|ERANGEL| 133|            10.0|           198816|           284325| 519.8971052044818|        3.0|     0.0|[199303.0,284143....|\n",
      "|            Mini 14|             2.0|           364433|           403834|ERANGEL| 280|            20.0|           365992|           405063|1985.1755589871643|        7.0|     0.0|[364433.0,403834....|\n",
      "|              M16A4|            28.0|           378229|           284983|MIRAMAR| 265|            21.0|           378215|           285268|285.34365246137855|        3.0|     1.0|[378229.0,284983....|\n",
      "|       Down and Out|             4.0|           312473|           390077|MIRAMAR|1333|            10.0|           295084|           386051|17848.977477715634|        0.0|     1.0|[312473.0,390077....|\n",
      "|       Down and Out|            39.0|           211468|           366015|ERANGEL| 208|            43.0|           212706|           366360|1285.1727510338833|        0.0|     0.0|[211468.0,366015....|\n",
      "|       Down and Out|             1.0|           367597|           586110|ERANGEL|1361|            10.0|           361564|           579267| 9122.704533196282|        0.0|     0.0|[367597.0,586110....|\n",
      "|       Down and Out|             2.0|           177854|           625588|ERANGEL| 159|            25.0|           177500|           625916|482.59714048054616|        0.0|     0.0|[177854.0,625588....|\n",
      "|              M16A4|             3.0|           155322|           393521|ERANGEL|1612|             9.0|           153705|           392947| 1715.856928767664|        3.0|     0.0|[155322.0,393521....|\n",
      "|               M416|             1.0|           244586|           405103|MIRAMAR|1664|             6.0|           238078|           396553|10745.071614465862|        1.0|     1.0|[244586.0,405103....|\n",
      "|                AKM|            17.0|           145031|           337082|ERANGEL| 278|            64.0|           152979|           332676| 9087.548624354094|        4.0|     0.0|[145031.0,337082....|\n",
      "|               S12K|            42.0|           564885|           383976|ERANGEL| 105|            90.0|           565030|           383993| 145.9931505242626|       12.0|     0.0|[564885.0,383976....|\n",
      "|       Down and Out|             1.0|           557994|           177374|ERANGEL|1726|             5.0|           555663|           179152| 2931.696607768273|        0.0|     0.0|[557994.0,177374....|\n",
      "|               UMP9|            30.0|           443080|           348731|ERANGEL| 489|            55.0|           443857|           347156|1756.2329002726262|        5.0|     0.0|[443080.0,348731....|\n",
      "+-------------------+----------------+-----------------+-----------------+-------+----+----------------+-----------------+-----------------+------------------+-----------+--------+--------------------+\n",
      "only showing top 20 rows\n",
      "\n"
     ]
    }
   ],
   "source": [
    "kill3.show()"
   ]
  },
  {
   "cell_type": "code",
   "execution_count": 119,
   "metadata": {},
   "outputs": [],
   "source": [
    "std2 = StandardScaler(inputCol='features',outputCol='stdfeatures')"
   ]
  },
  {
   "cell_type": "code",
   "execution_count": 120,
   "metadata": {},
   "outputs": [],
   "source": [
    "kill4 = std2.fit(kill3).transform(kill3)"
   ]
  },
  {
   "cell_type": "code",
   "execution_count": 123,
   "metadata": {},
   "outputs": [
    {
     "data": {
      "text/plain": [
       "[Row(stdfeatures=DenseVector([3.2147, 3.7514, 3.0268, 3.6018, 0.0666, 0.1394, 2.611])),\n",
       " Row(stdfeatures=DenseVector([3.6523, 2.5927, 3.4503, 2.4584, 0.0011, 5.0179, 2.611])),\n",
       " Row(stdfeatures=DenseVector([3.4001, 1.0554, 3.2125, 1.0081, 0.0107, 0.1394, 0.0])),\n",
       " Row(stdfeatures=DenseVector([3.0692, 3.2239, 2.9131, 3.0407, 0.0329, 0.6969, 0.0])),\n",
       " Row(stdfeatures=DenseVector([2.637, 2.3328, 2.4806, 2.2219, 0.0207, 0.1394, 0.0])),\n",
       " Row(stdfeatures=DenseVector([2.5726, 2.7797, 2.4299, 2.6439, 0.0112, 0.1394, 0.0])),\n",
       " Row(stdfeatures=DenseVector([2.4151, 3.9831, 2.2823, 3.7804, 0.0045, 1.812, 0.0])),\n",
       " Row(stdfeatures=DenseVector([1.3981, 2.0316, 1.3174, 1.928, 0.0052, 0.4182, 0.0])),\n",
       " Row(stdfeatures=DenseVector([2.5566, 2.8874, 2.4251, 2.7468, 0.0199, 0.9757, 0.0])),\n",
       " Row(stdfeatures=DenseVector([2.6533, 2.0376, 2.5061, 1.9344, 0.0029, 0.4182, 2.611]))]"
      ]
     },
     "execution_count": 123,
     "metadata": {},
     "output_type": "execute_result"
    }
   ],
   "source": [
    "kill4.select('stdfeatures').take(10)"
   ]
  },
  {
   "cell_type": "code",
   "execution_count": 124,
   "metadata": {},
   "outputs": [
    {
     "name": "stdout",
     "output_type": "stream",
     "text": [
      "root\n",
      " |-- killed_by: string (nullable = true)\n",
      " |-- killer_placement: double (nullable = true)\n",
      " |-- killer_position_x: integer (nullable = true)\n",
      " |-- killer_position_y: integer (nullable = true)\n",
      " |-- map: string (nullable = true)\n",
      " |-- time: integer (nullable = true)\n",
      " |-- victim_placement: double (nullable = true)\n",
      " |-- victim_position_x: integer (nullable = true)\n",
      " |-- victim_position_y: integer (nullable = true)\n",
      " |-- DIST: double (nullable = true)\n",
      " |-- weaponindex: double (nullable = false)\n",
      " |-- mapindex: double (nullable = false)\n",
      " |-- features: vector (nullable = true)\n",
      " |-- stdfeatures: vector (nullable = true)\n",
      "\n"
     ]
    }
   ],
   "source": [
    "kill4.printSchema()"
   ]
  },
  {
   "cell_type": "code",
   "execution_count": 125,
   "metadata": {},
   "outputs": [],
   "source": [
    "kill4.write.parquet('s3://502pubg/clean/kill1.parquet')"
   ]
  },
  {
   "cell_type": "code",
   "execution_count": 126,
   "metadata": {},
   "outputs": [],
   "source": [
    "kill0.write.parquet('s3://502pubg/clean/kill.parquet')"
   ]
  }
 ],
 "metadata": {
  "kernelspec": {
   "display_name": "Python 3",
   "language": "python",
   "name": "python3"
  },
  "language_info": {
   "codemirror_mode": {
    "name": "ipython",
    "version": 3
   },
   "file_extension": ".py",
   "mimetype": "text/x-python",
   "name": "python",
   "nbconvert_exporter": "python",
   "pygments_lexer": "ipython3",
   "version": "3.7.3"
  }
 },
 "nbformat": 4,
 "nbformat_minor": 4
}
