{
 "cells": [
  {
   "cell_type": "code",
   "execution_count": 1,
   "metadata": {},
   "outputs": [],
   "source": [
    "import findspark\n",
    "findspark.init()\n",
    "from pyspark.sql import SparkSession\n",
    "spark = SparkSession.builder.appName(\"sparkml\").getOrCreate()"
   ]
  },
  {
   "cell_type": "code",
   "execution_count": 2,
   "metadata": {},
   "outputs": [
    {
     "data": {
      "text/html": [
       "\n",
       "            <div>\n",
       "                <p><b>SparkSession - in-memory</b></p>\n",
       "                \n",
       "        <div>\n",
       "            <p><b>SparkContext</b></p>\n",
       "\n",
       "            <p><a href=\"http://ip-172-31-45-86.ec2.internal:4040\">Spark UI</a></p>\n",
       "\n",
       "            <dl>\n",
       "              <dt>Version</dt>\n",
       "                <dd><code>v2.4.4</code></dd>\n",
       "              <dt>Master</dt>\n",
       "                <dd><code>yarn</code></dd>\n",
       "              <dt>AppName</dt>\n",
       "                <dd><code>sparkml</code></dd>\n",
       "            </dl>\n",
       "        </div>\n",
       "        \n",
       "            </div>\n",
       "        "
      ],
      "text/plain": [
       "<pyspark.sql.session.SparkSession at 0x7ff1ac346410>"
      ]
     },
     "execution_count": 2,
     "metadata": {},
     "output_type": "execute_result"
    }
   ],
   "source": [
    "spark"
   ]
  },
  {
   "cell_type": "code",
   "execution_count": 51,
   "metadata": {},
   "outputs": [],
   "source": [
    "#Data1"
   ]
  },
  {
   "cell_type": "code",
   "execution_count": 10,
   "metadata": {},
   "outputs": [],
   "source": [
    "path0 = 's3://502pubg/Aggeragate/agg_match_stats_0.csv'\n",
    "path1 = 's3://502pubg/Aggeragate/agg_match_stats_1.csv'\n",
    "path2 = 's3://502pubg/Aggeragate/agg_match_stats_2.csv'\n",
    "path3 = 's3://502pubg/Aggeragate/agg_match_stats_3.csv'\n",
    "path4 = 's3://502pubg/Aggeragate/agg_match_stats_4.csv'"
   ]
  },
  {
   "cell_type": "code",
   "execution_count": 11,
   "metadata": {},
   "outputs": [],
   "source": [
    "agg0 = spark.read.csv(path0, header=True, inferSchema=True)\n",
    "agg1 = spark.read.csv(path1, header=True, inferSchema=True)\n",
    "agg2 = spark.read.csv(path2, header=True, inferSchema=True)\n",
    "agg3 = spark.read.csv(path3, header=True, inferSchema=True)\n",
    "agg4 = spark.read.csv(path4, header=True, inferSchema=True)"
   ]
  },
  {
   "cell_type": "code",
   "execution_count": 16,
   "metadata": {},
   "outputs": [],
   "source": [
    "agg = agg0.union(agg1)\n",
    "agg = agg.union(agg2)\n",
    "agg = agg.union(agg3)\n",
    "agg = agg.union(agg4)"
   ]
  },
  {
   "cell_type": "code",
   "execution_count": 17,
   "metadata": {},
   "outputs": [
    {
     "data": {
      "text/plain": [
       "67369231"
      ]
     },
     "execution_count": 17,
     "metadata": {},
     "output_type": "execute_result"
    }
   ],
   "source": [
    "agg.count()"
   ]
  },
  {
   "cell_type": "code",
   "execution_count": 18,
   "metadata": {},
   "outputs": [
    {
     "name": "stdout",
     "output_type": "stream",
     "text": [
      "root\n",
      " |-- date: string (nullable = true)\n",
      " |-- game_size: integer (nullable = true)\n",
      " |-- match_id: string (nullable = true)\n",
      " |-- match_mode: string (nullable = true)\n",
      " |-- party_size: integer (nullable = true)\n",
      " |-- player_assists: integer (nullable = true)\n",
      " |-- player_dbno: integer (nullable = true)\n",
      " |-- player_dist_ride: double (nullable = true)\n",
      " |-- player_dist_walk: double (nullable = true)\n",
      " |-- player_dmg: integer (nullable = true)\n",
      " |-- player_kills: integer (nullable = true)\n",
      " |-- player_name: string (nullable = true)\n",
      " |-- player_survive_time: double (nullable = true)\n",
      " |-- team_id: integer (nullable = true)\n",
      " |-- team_placement: integer (nullable = true)\n",
      "\n"
     ]
    }
   ],
   "source": [
    "agg.printSchema()"
   ]
  },
  {
   "cell_type": "code",
   "execution_count": 19,
   "metadata": {},
   "outputs": [
    {
     "name": "stdout",
     "output_type": "stream",
     "text": [
      "+--------------------+---------+--------------------+----------+----------+--------------+-----------+------------------+------------------+----------+------------+--------------+-------------------+-------+--------------+\n",
      "|                date|game_size|            match_id|match_mode|party_size|player_assists|player_dbno|  player_dist_ride|  player_dist_walk|player_dmg|player_kills|   player_name|player_survive_time|team_id|team_placement|\n",
      "+--------------------+---------+--------------------+----------+----------+--------------+-----------+------------------+------------------+----------+------------+--------------+-------------------+-------+--------------+\n",
      "|2017-11-26T20:59:...|       37|2U4GBNA0YmnNZYkzj...|       tpp|         2|             0|          1|          2870.724|        1784.84778|       117|           1|      SnuffIes|            1106.32|      4|            18|\n",
      "|2017-11-26T20:59:...|       37|2U4GBNA0YmnNZYkzj...|       tpp|         2|             0|          1|2938.4072300000003|1756.0797100000002|       127|           1|        Ozon3r|           1106.315|      4|            18|\n",
      "|2017-11-26T20:59:...|       37|2U4GBNA0YmnNZYkzj...|       tpp|         2|             0|          0|               0.0|        224.157562|        67|           0|        bovize|            235.558|      5|            33|\n",
      "|2017-11-26T20:59:...|       37|2U4GBNA0YmnNZYkzj...|       tpp|         2|             0|          0|               0.0|          92.93515|         0|           0|       sbahn87|            197.553|      5|            33|\n",
      "|2017-11-26T20:59:...|       37|2U4GBNA0YmnNZYkzj...|       tpp|         2|             0|          0|        2619.07739|          2510.447|       175|           2|     GeminiZZZ|           1537.495|     14|            11|\n",
      "|2017-11-26T20:59:...|       37|2U4GBNA0YmnNZYkzj...|       tpp|         2|             0|          0|         2896.3125|        2167.93213|        65|           0|      AlexWho6|             1537.5|     14|            11|\n",
      "|2017-11-26T20:59:...|       37|2U4GBNA0YmnNZYkzj...|       tpp|         2|             0|          0|               0.0|        3118.58032|         0|           0|    R1dd1ck913|           1264.792|     15|            17|\n",
      "|2017-11-26T20:59:...|       37|2U4GBNA0YmnNZYkzj...|       tpp|         2|             0|          0|               0.0|          3237.202|         0|           0|     Emmylou89|           1264.795|     15|            17|\n",
      "|2017-11-26T20:59:...|       37|2U4GBNA0YmnNZYkzj...|       tpp|         2|             0|          0|               0.0|         1552.3147|        79|           0|         ron-n|             868.56|     17|            24|\n",
      "|2017-11-26T20:59:...|       37|2U4GBNA0YmnNZYkzj...|       tpp|         2|             0|          1|               0.0|         1450.3147|       101|           1|       SoSpicy|            868.555|     17|            24|\n",
      "|2017-11-26T20:59:...|       37|2U4GBNA0YmnNZYkzj...|       tpp|         2|             0|          1|        2406.55469|        3100.02124|        54|           1|   MatthiasXIV|           1939.846|     22|             4|\n",
      "|2017-11-26T20:59:...|       37|2U4GBNA0YmnNZYkzj...|       tpp|         2|             0|          0|        3135.38647|2456.2775899999997|        34|           0|      Ninjapex|           1939.851|     22|             4|\n",
      "|2017-11-26T20:59:...|       37|2U4GBNA0YmnNZYkzj...|       tpp|         2|             0|          0|               0.0|        55.2714539|         0|           0|    thebrewski|             160.64|     24|            34|\n",
      "|2017-11-26T20:59:...|       37|2U4GBNA0YmnNZYkzj...|       tpp|         2|             0|          1|               0.0|          129.4159|       215|           2|GucciManeDrain| 180.90099999999998|     24|            34|\n",
      "|2017-11-26T20:59:...|       37|2U4GBNA0YmnNZYkzj...|       tpp|         2|             0|          0|          2418.547|        2474.08887|        75|           1|      subzero3|           2181.815|     25|             2|\n",
      "|2017-11-26T20:59:...|       37|2U4GBNA0YmnNZYkzj...|       tpp|         2|             0|          0|1277.5805699999999|        3286.67114|        84|           1|       Chogo82|            2181.82|     25|             2|\n",
      "|2017-11-26T20:59:...|       37|2U4GBNA0YmnNZYkzj...|       tpp|         2|             0|          0|               0.0|          2057.258|         0|           0|    FIYMNBVCXZ| 1583.1570000000002|     26|             3|\n",
      "|2017-11-26T20:59:...|       37|2U4GBNA0YmnNZYkzj...|       tpp|         2|             0|          4|               0.0|        3285.94385|       673|           6|     ShuLanHou| 2009.7220000000002|     26|             3|\n",
      "|2017-11-26T20:59:...|       37|2U4GBNA0YmnNZYkzj...|       tpp|         2|             0|          0|               0.0|        1522.11768|       117|           1|         sigbo| 1032.6480000000001|     29|            20|\n",
      "|2017-11-26T20:59:...|       37|2U4GBNA0YmnNZYkzj...|       tpp|         2|             0|          1|               0.0|        1078.95581|       100|           1|       Jerryxp|            513.487|     29|            20|\n",
      "+--------------------+---------+--------------------+----------+----------+--------------+-----------+------------------+------------------+----------+------------+--------------+-------------------+-------+--------------+\n",
      "only showing top 20 rows\n",
      "\n"
     ]
    }
   ],
   "source": [
    "agg.show()"
   ]
  },
  {
   "cell_type": "code",
   "execution_count": 22,
   "metadata": {},
   "outputs": [],
   "source": [
    "agg=agg.drop('date')\n",
    "agg =agg.drop('match_id')\n",
    "agg = agg.drop('player_name')\n",
    "agg = agg.drop('team_id')"
   ]
  },
  {
   "cell_type": "code",
   "execution_count": 23,
   "metadata": {},
   "outputs": [
    {
     "name": "stdout",
     "output_type": "stream",
     "text": [
      "root\n",
      " |-- game_size: integer (nullable = true)\n",
      " |-- match_mode: string (nullable = true)\n",
      " |-- party_size: integer (nullable = true)\n",
      " |-- player_assists: integer (nullable = true)\n",
      " |-- player_dbno: integer (nullable = true)\n",
      " |-- player_dist_ride: double (nullable = true)\n",
      " |-- player_dist_walk: double (nullable = true)\n",
      " |-- player_dmg: integer (nullable = true)\n",
      " |-- player_kills: integer (nullable = true)\n",
      " |-- player_survive_time: double (nullable = true)\n",
      " |-- team_placement: integer (nullable = true)\n",
      "\n"
     ]
    }
   ],
   "source": [
    "agg.printSchema()"
   ]
  },
  {
   "cell_type": "code",
   "execution_count": 30,
   "metadata": {},
   "outputs": [],
   "source": [
    "from pyspark.sql.types import IntegerType"
   ]
  },
  {
   "cell_type": "code",
   "execution_count": 31,
   "metadata": {},
   "outputs": [],
   "source": [
    "agg_0 = agg.withColumn('player_dist_ride',agg['player_dist_ride'].cast(IntegerType()))\n",
    "agg_0 = agg_0.withColumn('player_dist_walk',agg['player_dist_walk'].cast(IntegerType()))\n",
    "agg_0 = agg_0.withColumn('player_survive_time',agg['player_survive_time'].cast(IntegerType()))"
   ]
  },
  {
   "cell_type": "code",
   "execution_count": 32,
   "metadata": {},
   "outputs": [
    {
     "name": "stdout",
     "output_type": "stream",
     "text": [
      "root\n",
      " |-- game_size: integer (nullable = true)\n",
      " |-- match_mode: string (nullable = true)\n",
      " |-- party_size: integer (nullable = true)\n",
      " |-- player_assists: integer (nullable = true)\n",
      " |-- player_dbno: integer (nullable = true)\n",
      " |-- player_dist_ride: integer (nullable = true)\n",
      " |-- player_dist_walk: integer (nullable = true)\n",
      " |-- player_dmg: integer (nullable = true)\n",
      " |-- player_kills: integer (nullable = true)\n",
      " |-- player_survive_time: integer (nullable = true)\n",
      " |-- team_placement: integer (nullable = true)\n",
      "\n"
     ]
    }
   ],
   "source": [
    "agg_0.printSchema()"
   ]
  },
  {
   "cell_type": "code",
   "execution_count": 34,
   "metadata": {},
   "outputs": [
    {
     "data": {
      "text/plain": [
       "67369231"
      ]
     },
     "execution_count": 34,
     "metadata": {},
     "output_type": "execute_result"
    }
   ],
   "source": [
    "agg_0.na.drop().count()"
   ]
  },
  {
   "cell_type": "code",
   "execution_count": 40,
   "metadata": {},
   "outputs": [],
   "source": [
    "agg_0.write.parquet('s3://502pubg/clean/aggeragate0.parquet')"
   ]
  },
  {
   "cell_type": "code",
   "execution_count": 24,
   "metadata": {},
   "outputs": [],
   "source": [
    "from pyspark.ml.feature import OneHotEncoder, StringIndexer, IndexToString, VectorAssembler"
   ]
  },
  {
   "cell_type": "code",
   "execution_count": 25,
   "metadata": {},
   "outputs": [],
   "source": [
    "indexer1 = StringIndexer(inputCol='match_mode', outputCol=\"matchmode_index\")"
   ]
  },
  {
   "cell_type": "code",
   "execution_count": 45,
   "metadata": {},
   "outputs": [],
   "source": [
    "agg_1 = indexer1.fit(agg_0).transform(agg_0)"
   ]
  },
  {
   "cell_type": "code",
   "execution_count": 46,
   "metadata": {},
   "outputs": [],
   "source": [
    "indexer2 = StringIndexer(inputCol='team_placement', outputCol=\"label\")\n",
    "agg_1 = indexer2.fit(agg_1).transform(agg_1)"
   ]
  },
  {
   "cell_type": "code",
   "execution_count": 48,
   "metadata": {},
   "outputs": [
    {
     "name": "stdout",
     "output_type": "stream",
     "text": [
      "root\n",
      " |-- game_size: integer (nullable = true)\n",
      " |-- match_mode: string (nullable = true)\n",
      " |-- party_size: integer (nullable = true)\n",
      " |-- player_assists: integer (nullable = true)\n",
      " |-- player_dbno: integer (nullable = true)\n",
      " |-- player_dist_ride: integer (nullable = true)\n",
      " |-- player_dist_walk: integer (nullable = true)\n",
      " |-- player_dmg: integer (nullable = true)\n",
      " |-- player_kills: integer (nullable = true)\n",
      " |-- player_survive_time: integer (nullable = true)\n",
      " |-- team_placement: integer (nullable = true)\n",
      " |-- matchmode_index: double (nullable = false)\n",
      " |-- label: double (nullable = false)\n",
      "\n"
     ]
    }
   ],
   "source": [
    "agg_1.printSchema()"
   ]
  },
  {
   "cell_type": "code",
   "execution_count": 49,
   "metadata": {},
   "outputs": [
    {
     "name": "stdout",
     "output_type": "stream",
     "text": [
      "+---------+----------+----------+--------------+-----------+----------------+----------------+----------+------------+-------------------+--------------+---------------+-----+\n",
      "|game_size|match_mode|party_size|player_assists|player_dbno|player_dist_ride|player_dist_walk|player_dmg|player_kills|player_survive_time|team_placement|matchmode_index|label|\n",
      "+---------+----------+----------+--------------+-----------+----------------+----------------+----------+------------+-------------------+--------------+---------------+-----+\n",
      "|       37|       tpp|         2|             0|          1|            2870|            1784|       117|           1|               1106|            18|            0.0| 15.0|\n",
      "|       37|       tpp|         2|             0|          1|            2938|            1756|       127|           1|               1106|            18|            0.0| 15.0|\n",
      "|       37|       tpp|         2|             0|          0|               0|             224|        67|           0|                235|            33|            0.0| 32.0|\n",
      "|       37|       tpp|         2|             0|          0|               0|              92|         0|           0|                197|            33|            0.0| 32.0|\n",
      "|       37|       tpp|         2|             0|          0|            2619|            2510|       175|           2|               1537|            11|            0.0| 17.0|\n",
      "|       37|       tpp|         2|             0|          0|            2896|            2167|        65|           0|               1537|            11|            0.0| 17.0|\n",
      "|       37|       tpp|         2|             0|          0|               0|            3118|         0|           0|               1264|            17|            0.0| 18.0|\n",
      "|       37|       tpp|         2|             0|          0|               0|            3237|         0|           0|               1264|            17|            0.0| 18.0|\n",
      "|       37|       tpp|         2|             0|          0|               0|            1552|        79|           0|                868|            24|            0.0| 14.0|\n",
      "|       37|       tpp|         2|             0|          1|               0|            1450|       101|           1|                868|            24|            0.0| 14.0|\n",
      "|       37|       tpp|         2|             0|          1|            2406|            3100|        54|           1|               1939|             4|            0.0|  3.0|\n",
      "|       37|       tpp|         2|             0|          0|            3135|            2456|        34|           0|               1939|             4|            0.0|  3.0|\n",
      "|       37|       tpp|         2|             0|          0|               0|              55|         0|           0|                160|            34|            0.0| 33.0|\n",
      "|       37|       tpp|         2|             0|          1|               0|             129|       215|           2|                180|            34|            0.0| 33.0|\n",
      "|       37|       tpp|         2|             0|          0|            2418|            2474|        75|           1|               2181|             2|            0.0|  1.0|\n",
      "|       37|       tpp|         2|             0|          0|            1277|            3286|        84|           1|               2181|             2|            0.0|  1.0|\n",
      "|       37|       tpp|         2|             0|          0|               0|            2057|         0|           0|               1583|             3|            0.0|  2.0|\n",
      "|       37|       tpp|         2|             0|          4|               0|            3285|       673|           6|               2009|             3|            0.0|  2.0|\n",
      "|       37|       tpp|         2|             0|          0|               0|            1522|       117|           1|               1032|            20|            0.0| 10.0|\n",
      "|       37|       tpp|         2|             0|          1|               0|            1078|       100|           1|                513|            20|            0.0| 10.0|\n",
      "+---------+----------+----------+--------------+-----------+----------------+----------------+----------+------------+-------------------+--------------+---------------+-----+\n",
      "only showing top 20 rows\n",
      "\n"
     ]
    }
   ],
   "source": [
    "agg_1.show()"
   ]
  },
  {
   "cell_type": "code",
   "execution_count": 50,
   "metadata": {},
   "outputs": [],
   "source": [
    "agg_1.write.parquet('s3://502pubg/clean/aggeragate1.parquet')"
   ]
  },
  {
   "cell_type": "markdown",
   "metadata": {},
   "source": [
    "Data2"
   ]
  },
  {
   "cell_type": "code",
   "execution_count": 52,
   "metadata": {},
   "outputs": [],
   "source": [
    "path0 = 's3://502pubg/deaths/kill_match_stats_final_0.csv'\n",
    "path1 = 's3://502pubg/deaths/kill_match_stats_final_1.csv'\n",
    "path2 = 's3://502pubg/deaths/kill_match_stats_final_2.csv'\n",
    "path3 = 's3://502pubg/deaths/kill_match_stats_final_3.csv'\n",
    "path4 = 's3://502pubg/deaths/kill_match_stats_final_4.csv'"
   ]
  },
  {
   "cell_type": "code",
   "execution_count": 54,
   "metadata": {},
   "outputs": [],
   "source": [
    "kill0 = spark.read.csv(path0, header=True, inferSchema=True)\n",
    "kill1 = spark.read.csv(path1, header=True, inferSchema=True)\n",
    "kill2 = spark.read.csv(path2, header=True, inferSchema=True)\n",
    "kill3 = spark.read.csv(path3, header=True, inferSchema=True)\n",
    "kill4 = spark.read.csv(path4, header=True, inferSchema=True)"
   ]
  },
  {
   "cell_type": "code",
   "execution_count": 55,
   "metadata": {},
   "outputs": [
    {
     "data": {
      "text/plain": [
       "13426348"
      ]
     },
     "execution_count": 55,
     "metadata": {},
     "output_type": "execute_result"
    }
   ],
   "source": [
    "kill0.count()"
   ]
  },
  {
   "cell_type": "code",
   "execution_count": 56,
   "metadata": {},
   "outputs": [],
   "source": [
    "kill = kill0.union(kill1)\n",
    "kill = kill.union(kill2)\n",
    "kill = kill.union(kill3)\n",
    "kill = kill.union(kill4)"
   ]
  },
  {
   "cell_type": "code",
   "execution_count": 57,
   "metadata": {},
   "outputs": [
    {
     "name": "stdout",
     "output_type": "stream",
     "text": [
      "root\n",
      " |-- killed_by: string (nullable = true)\n",
      " |-- killer_name: string (nullable = true)\n",
      " |-- killer_placement: double (nullable = true)\n",
      " |-- killer_position_x: double (nullable = true)\n",
      " |-- killer_position_y: double (nullable = true)\n",
      " |-- map: string (nullable = true)\n",
      " |-- match_id: string (nullable = true)\n",
      " |-- time: integer (nullable = true)\n",
      " |-- victim_name: string (nullable = true)\n",
      " |-- victim_placement: double (nullable = true)\n",
      " |-- victim_position_x: double (nullable = true)\n",
      " |-- victim_position_y: double (nullable = true)\n",
      "\n"
     ]
    }
   ],
   "source": [
    "kill.printSchema()"
   ]
  },
  {
   "cell_type": "code",
   "execution_count": 58,
   "metadata": {},
   "outputs": [
    {
     "name": "stdout",
     "output_type": "stream",
     "text": [
      "+------------+----------------+----------------+-----------------+-----------------+-------+--------------------+----+---------------+----------------+-----------------+-----------------+\n",
      "|   killed_by|     killer_name|killer_placement|killer_position_x|killer_position_y|    map|            match_id|time|    victim_name|victim_placement|victim_position_x|victim_position_y|\n",
      "+------------+----------------+----------------+-----------------+-----------------+-------+--------------------+----+---------------+----------------+-----------------+-----------------+\n",
      "|     Grenade| KrazyPortuguese|             5.0|         657725.1|         146275.2|MIRAMAR|2U4GBNA0YmnLSqvEy...| 823|KrazyPortuguese|             5.0|         657725.1|         146275.2|\n",
      "|      SCAR-L|nide2Bxiaojiejie|            31.0|         93091.37|         722236.4|MIRAMAR|2U4GBNA0YmnLSqvEy...| 194|    X3evolution|            33.0|         92238.68|         723375.1|\n",
      "|        S686|        Ascholes|            43.0|         366921.4|         421623.9|MIRAMAR|2U4GBNA0YmnLSqvEy...| 103|        CtrlZee|            46.0|         367304.5|         421216.1|\n",
      "|Down and Out|      Weirdo7777|             9.0|         472014.2|         313274.8|MIRAMAR|2U4GBNA0YmnLSqvEy...|1018|      BlackDpre|            13.0|         476645.9|         316758.4|\n",
      "|        M416|       Solayuki1|             9.0|         473357.8|         318340.5|MIRAMAR|2U4GBNA0YmnLSqvEy...|1018|          Vjolt|            13.0|         473588.5|         318418.8|\n",
      "|       Punch|   xuezhiqian717|            26.0|         721944.4|         359575.3|MIRAMAR|2U4GBNA0YmnLSqvEy...| 123| PurplePenguin9|            47.0|              0.0|              0.0|\n",
      "|         AKM|       pdfjkkvjk|            12.0|         376333.8|         317858.9|MIRAMAR|2U4GBNA0YmnLSqvEy...| 886|     JoeyJoeman|            15.0|         372808.3|         297124.2|\n",
      "|        S686|       xiaogao13|            27.0|         373125.3|         433540.6|MIRAMAR|2U4GBNA0YmnLSqvEy...| 137|         BNOISE|            38.0|         373125.8|         433608.8|\n",
      "|        S686|       Jingchita|            40.0|         370990.6|         424074.5|MIRAMAR|2U4GBNA0YmnLSqvEy...|  89|    OmGiTzPauly|            47.0|         370761.1|         423662.1|\n",
      "|         AKM|    Alexande-999|            25.0|         368799.3|         420810.2|MIRAMAR|2U4GBNA0YmnLSqvEy...| 117|       Ascholes|            43.0|         368015.0|         421322.6|\n",
      "|       Punch|    NameLessisME|             8.0|         434351.8|         278681.6|MIRAMAR|2U4GBNA0YmnLSqvEy...| 165|       Haten-Gu|            28.0|         434383.5|         278608.1|\n",
      "|         P92|      Daerljgodi|            20.0|         365983.6|         439563.8|MIRAMAR|2U4GBNA0YmnLSqvEy...| 111|      BigBeefyy|            38.0|         366246.5|         439890.6|\n",
      "|        S686|        JoyFeng-|             3.0|         363435.6|         423069.7|MIRAMAR|2U4GBNA0YmnLSqvEy...| 406|   WalrusInHeat|            23.0|         363666.7|         423256.1|\n",
      "|        M416|    NameLessisME|             8.0|         374980.3|         293019.5|MIRAMAR|2U4GBNA0YmnLSqvEy...| 883|     Dinostoned|            15.0|         375053.3|         293151.7|\n",
      "|Down and Out|   UrGrandFather|            14.0|         535680.8|         368517.3|MIRAMAR|2U4GBNA0YmnLSqvEy...| 751|          Pis22|            null|         533947.6|         366812.6|\n",
      "|       Punch|   xuezhiqian717|            26.0|         725042.3|         361510.1|MIRAMAR|2U4GBNA0YmnLSqvEy...| 139|  patrickmoneyy|            47.0|              0.0|              0.0|\n",
      "|       Win94|   FantasticBoys|             2.0|         384599.4|         437149.5|MIRAMAR|2U4GBNA0YmnLSqvEy...| 127|     ImSoPhamcy|            42.0|         383677.7|         443822.2|\n",
      "|        M416|       PPPIGFEET|            26.0|         363133.9|         430829.4|MIRAMAR|2U4GBNA0YmnLSqvEy...| 229|     Northidaho|            30.0|         363109.9|         430999.2|\n",
      "|       M16A4|       EnGliSh22|             5.0|         582324.7|         251006.2|MIRAMAR|2U4GBNA0YmnLSqvEy...|1181|     BuckFutt22|            11.0|         584332.7|         252824.0|\n",
      "|        S12K|        Bookinga|            44.0|         371186.5|         423791.3|MIRAMAR|2U4GBNA0YmnLSqvEy...|  97|      BergerBoi|            47.0|         371092.2|         423650.7|\n",
      "+------------+----------------+----------------+-----------------+-----------------+-------+--------------------+----+---------------+----------------+-----------------+-----------------+\n",
      "only showing top 20 rows\n",
      "\n"
     ]
    }
   ],
   "source": [
    "kill.show()"
   ]
  },
  {
   "cell_type": "code",
   "execution_count": 59,
   "metadata": {},
   "outputs": [
    {
     "data": {
      "text/plain": [
       "65370475"
      ]
     },
     "execution_count": 59,
     "metadata": {},
     "output_type": "execute_result"
    }
   ],
   "source": [
    "kill.count()"
   ]
  },
  {
   "cell_type": "code",
   "execution_count": 60,
   "metadata": {},
   "outputs": [],
   "source": [
    "kill = kill.drop('killer_name')\n",
    "kill = kill.drop('match_id')\n",
    "kill = kill.drop('victim_name')"
   ]
  },
  {
   "cell_type": "code",
   "execution_count": 61,
   "metadata": {},
   "outputs": [
    {
     "name": "stdout",
     "output_type": "stream",
     "text": [
      "root\n",
      " |-- killed_by: string (nullable = true)\n",
      " |-- killer_placement: double (nullable = true)\n",
      " |-- killer_position_x: double (nullable = true)\n",
      " |-- killer_position_y: double (nullable = true)\n",
      " |-- map: string (nullable = true)\n",
      " |-- time: integer (nullable = true)\n",
      " |-- victim_placement: double (nullable = true)\n",
      " |-- victim_position_x: double (nullable = true)\n",
      " |-- victim_position_y: double (nullable = true)\n",
      "\n"
     ]
    }
   ],
   "source": [
    "kill.printSchema()"
   ]
  },
  {
   "cell_type": "code",
   "execution_count": 62,
   "metadata": {},
   "outputs": [],
   "source": [
    "kill_0 = kill.withColumn('killer_position_x',kill['killer_position_x'].cast(IntegerType()))\n",
    "kill_0 = kill_0.withColumn('killer_position_y',kill['killer_position_y'].cast(IntegerType()))\n",
    "kill_0 = kill_0.withColumn('victim_position_x',kill['victim_position_x'].cast(IntegerType()))\n",
    "kill_0 = kill_0.withColumn('victim_position_y',kill['victim_position_y'].cast(IntegerType()))"
   ]
  },
  {
   "cell_type": "code",
   "execution_count": 63,
   "metadata": {},
   "outputs": [
    {
     "name": "stdout",
     "output_type": "stream",
     "text": [
      "root\n",
      " |-- killed_by: string (nullable = true)\n",
      " |-- killer_placement: double (nullable = true)\n",
      " |-- killer_position_x: integer (nullable = true)\n",
      " |-- killer_position_y: integer (nullable = true)\n",
      " |-- map: string (nullable = true)\n",
      " |-- time: integer (nullable = true)\n",
      " |-- victim_placement: double (nullable = true)\n",
      " |-- victim_position_x: integer (nullable = true)\n",
      " |-- victim_position_y: integer (nullable = true)\n",
      "\n"
     ]
    }
   ],
   "source": [
    "kill_0.printSchema()"
   ]
  },
  {
   "cell_type": "code",
   "execution_count": 65,
   "metadata": {},
   "outputs": [],
   "source": [
    "kill_0.write.parquet('s3://502pubg/clean/kill0.parquet')"
   ]
  }
 ],
 "metadata": {
  "kernelspec": {
   "display_name": "Python 3",
   "language": "python",
   "name": "python3"
  },
  "language_info": {
   "codemirror_mode": {
    "name": "ipython",
    "version": 3
   },
   "file_extension": ".py",
   "mimetype": "text/x-python",
   "name": "python",
   "nbconvert_exporter": "python",
   "pygments_lexer": "ipython3",
   "version": "3.7.6"
  }
 },
 "nbformat": 4,
 "nbformat_minor": 4
}
