{
 "cells": [
  {
   "cell_type": "code",
   "execution_count": 1,
   "metadata": {},
   "outputs": [],
   "source": [
    "import findspark\n",
    "findspark.init()\n",
    "from pyspark.sql import SparkSession\n",
    "spark = SparkSession.builder.appName(\"map\").getOrCreate()"
   ]
  },
  {
   "cell_type": "code",
   "execution_count": 8,
   "metadata": {},
   "outputs": [],
   "source": [
    "kill_0 = 's3://502pubg/clean/kill.parquet'\n",
    "kill_spark = spark.read.parquet(kill_0)"
   ]
  },
  {
   "cell_type": "code",
   "execution_count": 9,
   "metadata": {},
   "outputs": [
    {
     "name": "stdout",
     "output_type": "stream",
     "text": [
      "root\n",
      " |-- killed_by: string (nullable = true)\n",
      " |-- killer_placement: double (nullable = true)\n",
      " |-- killer_position_x: integer (nullable = true)\n",
      " |-- killer_position_y: integer (nullable = true)\n",
      " |-- map: string (nullable = true)\n",
      " |-- time: integer (nullable = true)\n",
      " |-- victim_placement: double (nullable = true)\n",
      " |-- victim_position_x: integer (nullable = true)\n",
      " |-- victim_position_y: integer (nullable = true)\n",
      " |-- id: long (nullable = true)\n",
      "\n"
     ]
    }
   ],
   "source": [
    "kill_spark.printSchema()"
   ]
  },
  {
   "cell_type": "code",
   "execution_count": 5,
   "metadata": {},
   "outputs": [],
   "source": [
    "import numpy as np\n",
    "import matplotlib.pyplot as plt\n",
    "import pandas as pd\n",
    "from matplotlib.pyplot import imread\n",
    "from scipy.ndimage.filters import gaussian_filter\n",
    "import matplotlib.cm as cm\n",
    "from matplotlib.colors import Normalize"
   ]
  },
  {
   "cell_type": "code",
   "execution_count": 10,
   "metadata": {},
   "outputs": [],
   "source": [
    "kill = kill_spark.select(\"*\").toPandas()"
   ]
  },
  {
   "cell_type": "code",
   "execution_count": 11,
   "metadata": {},
   "outputs": [],
   "source": [
    "edf = kill.loc[kill['map'] == 'ERANGEL']\n",
    "mdf = kill.loc[kill['map'] == 'MIRAMAR']"
   ]
  },
  {
   "cell_type": "code",
   "execution_count": 12,
   "metadata": {},
   "outputs": [],
   "source": [
    "def killer_victim_df_maker(kill_0):\n",
    "    #find the position of the killers and players who were killed on the map \n",
    "    df = edf\n",
    "    victim_x_df = df.filter(regex = 'victim_position_x')\n",
    "    victim_y_df = df.filter(regex = 'victim_position_y')\n",
    "    killer_x_df = df.filter(regex = 'killer_position_x')\n",
    "    killer_y_df = df.filter(regex = 'killer_position_y')\n",
    "    #ravel()the matrix\n",
    "    victim_x_s = pd.Series(victim_x_df.values.ravel('F'))\n",
    "    victim_y_s = pd.Series(victim_y_df.values.ravel('F'))\n",
    "    killer_x_s = pd.Series(killer_x_df.values.ravel('F'))\n",
    "    killer_y_s = pd.Series(killer_y_df.values.ravel('F'))\n",
    "    \n",
    "    vdata = {'x':victim_x_s, 'y':victim_y_s}\n",
    "    kdata = {'x':killer_x_s, 'y':killer_y_s}\n",
    "    \n",
    "    victim_df = pd.DataFrame(data = vdata).dropna(how = 'any')\n",
    "    victim_df = victim_df[victim_df['x'] > 0]\n",
    "    killer_df = pd.DataFrame(data = kdata).dropna(how = 'any')\n",
    "    killer_df = killer_df[killer_df['x'] > 0]\n",
    "    return killer_df, victim_df"
   ]
  },
  {
   "cell_type": "code",
   "execution_count": 13,
   "metadata": {},
   "outputs": [],
   "source": [
    "ekdf,evdf = killer_victim_df_maker(edf)\n",
    "mkdf,mvdf = killer_victim_df_maker(mdf)"
   ]
  },
  {
   "cell_type": "code",
   "execution_count": 15,
   "metadata": {},
   "outputs": [
    {
     "name": "stdout",
     "output_type": "stream",
     "text": [
      "        x       y\n",
      "0  526713  669857\n",
      "1  462594  644537\n",
      "2  360094  394891\n",
      "3  335182  157544\n",
      "4  205344  270663\n",
      "5  469621  647893\n",
      "6  302518  579473\n",
      "7  624428  602356\n",
      "8  450102  620974\n",
      "9  281149  558808\n",
      "         x       y\n",
      "1   463091  643535\n",
      "2   360259  396052\n",
      "3   333915  157494\n",
      "4   209850  270024\n",
      "5   459994  646792\n",
      "6   297147  579977\n",
      "7   626641  614474\n",
      "8   449996  621004\n",
      "9   288445  559878\n",
      "10  637573  461594\n",
      "        x       y\n",
      "0  526713  669857\n",
      "1  462594  644537\n",
      "2  360094  394891\n",
      "3  335182  157544\n",
      "4  205344  270663\n",
      "5  469621  647893\n",
      "6  302518  579473\n",
      "7  624428  602356\n",
      "8  450102  620974\n",
      "9  281149  558808\n",
      "         x       y\n",
      "1   463091  643535\n",
      "2   360259  396052\n",
      "3   333915  157494\n",
      "4   209850  270024\n",
      "5   459994  646792\n",
      "6   297147  579977\n",
      "7   626641  614474\n",
      "8   449996  621004\n",
      "9   288445  559878\n",
      "10  637573  461594\n",
      "4035806 3961863 4035806 3961863\n"
     ]
    }
   ],
   "source": [
    "print(ekdf.head(10))#the killers positions on the map \"erangel\"\n",
    "print(evdf.head(10))#the players position who were killed on the map \"erangel\"\n",
    "print(mkdf.head(10))#the killers positions on the map \"miramar\"\n",
    "print(mvdf.head(10))#the players position who were killed on the map \"miramar\"\n",
    "print(len(ekdf), len(evdf), len(mkdf), len(mvdf))"
   ]
  },
  {
   "cell_type": "code",
   "execution_count": 16,
   "metadata": {},
   "outputs": [],
   "source": [
    "plot_data_ev = evdf[['x','y']].values\n",
    "plot_data_ek = ekdf[['x','y']].values\n",
    "plot_data_mv = mvdf[['x','y']].values\n",
    "plot_data_mk = mkdf[['x','y']].values"
   ]
  },
  {
   "cell_type": "code",
   "execution_count": 17,
   "metadata": {},
   "outputs": [],
   "source": [
    "plot_data_ev = plot_data_ev * 4040 /800000\n",
    "plot_data_ek = plot_data_ek * 4040 /800000\n",
    "plot_data_mv = plot_data_mv * 976 /800000\n",
    "plot_data_mk = plot_data_mk * 976 /800000"
   ]
  },
  {
   "cell_type": "code",
   "execution_count": 18,
   "metadata": {},
   "outputs": [
    {
     "name": "stdout",
     "output_type": "stream",
     "text": [
      "[[ 2338.60955 -2118.85737]\n",
      " [ 1819.30795  2000.0626 ]\n",
      " [ 1686.27075   795.3447 ]\n",
      " ...\n",
      " [ 2236.04405 -2223.73072]\n",
      " [ 1439.0985    671.52375]\n",
      " [ 1583.7709    958.91925]]\n"
     ]
    }
   ],
   "source": [
    "print(plot_data_ev)"
   ]
  },
  {
   "cell_type": "code",
   "execution_count": 19,
   "metadata": {},
   "outputs": [],
   "source": [
    "def heatmap(x, y, s, bins = 100):\n",
    "    heatmap, xedges, yedges = np.histogram2d(x, y, bins = bins)\n",
    "    heatmap = gaussian_filter(heatmap, sigma = s)\n",
    "    extent = [xedges[0], xedges[-1], yedges[0], yedges[-1]]\n",
    "    return heatmap.T, extent"
   ]
  },
  {
   "cell_type": "code",
   "execution_count": null,
   "metadata": {},
   "outputs": [],
   "source": []
  }
 ],
 "metadata": {
  "kernelspec": {
   "display_name": "Python 3",
   "language": "python",
   "name": "python3"
  },
  "language_info": {
   "codemirror_mode": {
    "name": "ipython",
    "version": 3
   },
   "file_extension": ".py",
   "mimetype": "text/x-python",
   "name": "python",
   "nbconvert_exporter": "python",
   "pygments_lexer": "ipython3",
   "version": "3.7.6"
  }
 },
 "nbformat": 4,
 "nbformat_minor": 4
}
